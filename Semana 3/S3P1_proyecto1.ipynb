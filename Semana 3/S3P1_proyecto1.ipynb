{
 "cells": [
  {
   "cell_type": "markdown",
   "metadata": {},
   "source": [
    "![image info](https://raw.githubusercontent.com/albahnsen/MIAD_ML_and_NLP/main/images/banner_1.png)"
   ]
  },
  {
   "cell_type": "markdown",
   "metadata": {},
   "source": [
    "# Proyecto 1 - Predicción de precios de vehículos usados"
   ]
  },
  {
   "cell_type": "markdown",
   "metadata": {},
   "source": [
    "## Solución - Equipo 3\n",
    "\n",
    "Integrantes:\n",
    "- Francisco Martino\n",
    "- Edgar Garcia\n",
    "- Dayana Ortega\n",
    "- Edgar Garcia"
   ]
  },
  {
   "cell_type": "markdown",
   "metadata": {},
   "source": [
    "## 1. Preprocesamiento de Datos"
   ]
  },
  {
   "cell_type": "code",
   "execution_count": 1,
   "metadata": {},
   "outputs": [],
   "source": [
    "import warnings\n",
    "warnings.filterwarnings('ignore')"
   ]
  },
  {
   "cell_type": "code",
   "execution_count": 1,
   "metadata": {},
   "outputs": [],
   "source": [
    "# Importación librerías\n",
    "import pandas as pd\n",
    "import numpy as np\n",
    "\n",
    "# Librerias para gráficos y visualizaciones\n",
    "import matplotlib.pyplot as plt\n",
    "import seaborn as sns\n",
    "\n",
    "#Librerías para preprocesamiento y codificación\n",
    "from sklearn import preprocessing\n",
    "from sklearn.preprocessing import StandardScaler\n",
    "from sklearn.preprocessing import LabelEncoder\n",
    "\n",
    "from sklearn.model_selection import train_test_split\n",
    "from sklearn.linear_model import LinearRegression\n",
    "from sklearn.ensemble import BaggingRegressor\n",
    "from sklearn.tree import DecisionTreeRegressor\n",
    "from sklearn.ensemble import RandomForestRegressor\n",
    "from sklearn.model_selection import cross_val_score\n",
    "from sklearn import metrics\n",
    "from xgboost import XGBRegressor\n",
    "import category_encoders as ce\n",
    "\n",
    "import math\n"
   ]
  },
  {
   "cell_type": "code",
   "execution_count": 4,
   "metadata": {},
   "outputs": [],
   "source": [
    "# Carga de datos de archivo .csv\n",
    "dataTraining = pd.read_csv('https://raw.githubusercontent.com/albahnsen/MIAD_ML_and_NLP/main/datasets/dataTrain_carListings.zip')\n",
    "dataTesting = pd.read_csv('https://raw.githubusercontent.com/albahnsen/MIAD_ML_and_NLP/main/datasets/dataTest_carListings.zip', index_col=0)"
   ]
  },
  {
   "cell_type": "code",
   "execution_count": 256,
   "metadata": {},
   "outputs": [
    {
     "data": {
      "text/html": [
       "<div>\n",
       "<style scoped>\n",
       "    .dataframe tbody tr th:only-of-type {\n",
       "        vertical-align: middle;\n",
       "    }\n",
       "\n",
       "    .dataframe tbody tr th {\n",
       "        vertical-align: top;\n",
       "    }\n",
       "\n",
       "    .dataframe thead th {\n",
       "        text-align: right;\n",
       "    }\n",
       "</style>\n",
       "<table border=\"1\" class=\"dataframe\">\n",
       "  <thead>\n",
       "    <tr style=\"text-align: right;\">\n",
       "      <th></th>\n",
       "      <th>Price</th>\n",
       "      <th>Year</th>\n",
       "      <th>Mileage</th>\n",
       "      <th>State</th>\n",
       "      <th>Make</th>\n",
       "      <th>Model</th>\n",
       "    </tr>\n",
       "  </thead>\n",
       "  <tbody>\n",
       "    <tr>\n",
       "      <th>0</th>\n",
       "      <td>34995</td>\n",
       "      <td>2017</td>\n",
       "      <td>9913</td>\n",
       "      <td>FL</td>\n",
       "      <td>Jeep</td>\n",
       "      <td>Wrangler</td>\n",
       "    </tr>\n",
       "    <tr>\n",
       "      <th>1</th>\n",
       "      <td>37895</td>\n",
       "      <td>2015</td>\n",
       "      <td>20578</td>\n",
       "      <td>OH</td>\n",
       "      <td>Chevrolet</td>\n",
       "      <td>Tahoe4WD</td>\n",
       "    </tr>\n",
       "    <tr>\n",
       "      <th>2</th>\n",
       "      <td>18430</td>\n",
       "      <td>2012</td>\n",
       "      <td>83716</td>\n",
       "      <td>TX</td>\n",
       "      <td>BMW</td>\n",
       "      <td>X5AWD</td>\n",
       "    </tr>\n",
       "    <tr>\n",
       "      <th>3</th>\n",
       "      <td>24681</td>\n",
       "      <td>2014</td>\n",
       "      <td>28729</td>\n",
       "      <td>OH</td>\n",
       "      <td>Cadillac</td>\n",
       "      <td>SRXLuxury</td>\n",
       "    </tr>\n",
       "    <tr>\n",
       "      <th>4</th>\n",
       "      <td>26998</td>\n",
       "      <td>2013</td>\n",
       "      <td>64032</td>\n",
       "      <td>CO</td>\n",
       "      <td>Jeep</td>\n",
       "      <td>Wrangler</td>\n",
       "    </tr>\n",
       "  </tbody>\n",
       "</table>\n",
       "</div>"
      ],
      "text/plain": [
       "   Price  Year  Mileage State       Make      Model\n",
       "0  34995  2017     9913    FL       Jeep   Wrangler\n",
       "1  37895  2015    20578    OH  Chevrolet   Tahoe4WD\n",
       "2  18430  2012    83716    TX        BMW      X5AWD\n",
       "3  24681  2014    28729    OH   Cadillac  SRXLuxury\n",
       "4  26998  2013    64032    CO       Jeep   Wrangler"
      ]
     },
     "execution_count": 256,
     "metadata": {},
     "output_type": "execute_result"
    }
   ],
   "source": [
    "# Visualización datos de entrenamiento\n",
    "dataTraining.head()"
   ]
  },
  {
   "cell_type": "code",
   "execution_count": 257,
   "metadata": {},
   "outputs": [
    {
     "data": {
      "text/html": [
       "<div>\n",
       "<style scoped>\n",
       "    .dataframe tbody tr th:only-of-type {\n",
       "        vertical-align: middle;\n",
       "    }\n",
       "\n",
       "    .dataframe tbody tr th {\n",
       "        vertical-align: top;\n",
       "    }\n",
       "\n",
       "    .dataframe thead th {\n",
       "        text-align: right;\n",
       "    }\n",
       "</style>\n",
       "<table border=\"1\" class=\"dataframe\">\n",
       "  <thead>\n",
       "    <tr style=\"text-align: right;\">\n",
       "      <th></th>\n",
       "      <th>Year</th>\n",
       "      <th>Mileage</th>\n",
       "      <th>State</th>\n",
       "      <th>Make</th>\n",
       "      <th>Model</th>\n",
       "    </tr>\n",
       "    <tr>\n",
       "      <th>ID</th>\n",
       "      <th></th>\n",
       "      <th></th>\n",
       "      <th></th>\n",
       "      <th></th>\n",
       "      <th></th>\n",
       "    </tr>\n",
       "  </thead>\n",
       "  <tbody>\n",
       "    <tr>\n",
       "      <th>0</th>\n",
       "      <td>2014</td>\n",
       "      <td>31909</td>\n",
       "      <td>MD</td>\n",
       "      <td>Nissan</td>\n",
       "      <td>MuranoAWD</td>\n",
       "    </tr>\n",
       "    <tr>\n",
       "      <th>1</th>\n",
       "      <td>2017</td>\n",
       "      <td>5362</td>\n",
       "      <td>FL</td>\n",
       "      <td>Jeep</td>\n",
       "      <td>Wrangler</td>\n",
       "    </tr>\n",
       "    <tr>\n",
       "      <th>2</th>\n",
       "      <td>2014</td>\n",
       "      <td>50300</td>\n",
       "      <td>OH</td>\n",
       "      <td>Ford</td>\n",
       "      <td>FlexLimited</td>\n",
       "    </tr>\n",
       "    <tr>\n",
       "      <th>3</th>\n",
       "      <td>2004</td>\n",
       "      <td>132160</td>\n",
       "      <td>WA</td>\n",
       "      <td>BMW</td>\n",
       "      <td>5</td>\n",
       "    </tr>\n",
       "    <tr>\n",
       "      <th>4</th>\n",
       "      <td>2015</td>\n",
       "      <td>25226</td>\n",
       "      <td>MA</td>\n",
       "      <td>Jeep</td>\n",
       "      <td>Grand</td>\n",
       "    </tr>\n",
       "  </tbody>\n",
       "</table>\n",
       "</div>"
      ],
      "text/plain": [
       "    Year  Mileage State    Make        Model\n",
       "ID                                          \n",
       "0   2014    31909    MD  Nissan    MuranoAWD\n",
       "1   2017     5362    FL    Jeep     Wrangler\n",
       "2   2014    50300    OH    Ford  FlexLimited\n",
       "3   2004   132160    WA     BMW            5\n",
       "4   2015    25226    MA    Jeep        Grand"
      ]
     },
     "execution_count": 257,
     "metadata": {},
     "output_type": "execute_result"
    }
   ],
   "source": [
    "# Visualización datos de test\n",
    "dataTesting.head()"
   ]
  },
  {
   "cell_type": "code",
   "execution_count": 165,
   "metadata": {},
   "outputs": [
    {
     "data": {
      "text/plain": [
       "Price      0\n",
       "Year       0\n",
       "Mileage    0\n",
       "State      0\n",
       "Make       0\n",
       "Model      0\n",
       "dtype: int64"
      ]
     },
     "execution_count": 165,
     "metadata": {},
     "output_type": "execute_result"
    }
   ],
   "source": [
    "# Evaluación de nulos en set de entrenamiento\n",
    "dataTraining.isna().sum()"
   ]
  },
  {
   "cell_type": "code",
   "execution_count": 258,
   "metadata": {},
   "outputs": [],
   "source": [
    "# Tratamiento de variables categóricas en set de entrenamiento\n",
    "dataTraining['State'] = LabelEncoder().fit_transform(dataTraining['State'])\n",
    "dataTraining['Make'] = LabelEncoder().fit_transform(dataTraining['Make'])\n",
    "dataTraining['Model'] = LabelEncoder().fit_transform(dataTraining['Model'])"
   ]
  },
  {
   "cell_type": "code",
   "execution_count": 259,
   "metadata": {},
   "outputs": [
    {
     "data": {
      "text/html": [
       "<div>\n",
       "<style scoped>\n",
       "    .dataframe tbody tr th:only-of-type {\n",
       "        vertical-align: middle;\n",
       "    }\n",
       "\n",
       "    .dataframe tbody tr th {\n",
       "        vertical-align: top;\n",
       "    }\n",
       "\n",
       "    .dataframe thead th {\n",
       "        text-align: right;\n",
       "    }\n",
       "</style>\n",
       "<table border=\"1\" class=\"dataframe\">\n",
       "  <thead>\n",
       "    <tr style=\"text-align: right;\">\n",
       "      <th></th>\n",
       "      <th>count</th>\n",
       "      <th>mean</th>\n",
       "      <th>std</th>\n",
       "      <th>min</th>\n",
       "      <th>25%</th>\n",
       "      <th>50%</th>\n",
       "      <th>75%</th>\n",
       "      <th>max</th>\n",
       "    </tr>\n",
       "  </thead>\n",
       "  <tbody>\n",
       "    <tr>\n",
       "      <th>Price</th>\n",
       "      <td>400000.0</td>\n",
       "      <td>21146.919312</td>\n",
       "      <td>10753.664940</td>\n",
       "      <td>5001.0</td>\n",
       "      <td>13499.0</td>\n",
       "      <td>18450.0</td>\n",
       "      <td>26999.0</td>\n",
       "      <td>79999.0</td>\n",
       "    </tr>\n",
       "    <tr>\n",
       "      <th>Year</th>\n",
       "      <td>400000.0</td>\n",
       "      <td>2013.198125</td>\n",
       "      <td>3.292326</td>\n",
       "      <td>1997.0</td>\n",
       "      <td>2012.0</td>\n",
       "      <td>2014.0</td>\n",
       "      <td>2016.0</td>\n",
       "      <td>2018.0</td>\n",
       "    </tr>\n",
       "    <tr>\n",
       "      <th>Mileage</th>\n",
       "      <td>400000.0</td>\n",
       "      <td>55072.956895</td>\n",
       "      <td>40881.018845</td>\n",
       "      <td>5.0</td>\n",
       "      <td>25841.0</td>\n",
       "      <td>42955.0</td>\n",
       "      <td>77433.0</td>\n",
       "      <td>2457832.0</td>\n",
       "    </tr>\n",
       "    <tr>\n",
       "      <th>State</th>\n",
       "      <td>400000.0</td>\n",
       "      <td>24.034658</td>\n",
       "      <td>15.325588</td>\n",
       "      <td>0.0</td>\n",
       "      <td>9.0</td>\n",
       "      <td>24.0</td>\n",
       "      <td>39.0</td>\n",
       "      <td>50.0</td>\n",
       "    </tr>\n",
       "    <tr>\n",
       "      <th>Make</th>\n",
       "      <td>400000.0</td>\n",
       "      <td>15.833530</td>\n",
       "      <td>10.299097</td>\n",
       "      <td>0.0</td>\n",
       "      <td>8.0</td>\n",
       "      <td>13.0</td>\n",
       "      <td>20.0</td>\n",
       "      <td>37.0</td>\n",
       "    </tr>\n",
       "    <tr>\n",
       "      <th>Model</th>\n",
       "      <td>400000.0</td>\n",
       "      <td>254.827082</td>\n",
       "      <td>148.634414</td>\n",
       "      <td>0.0</td>\n",
       "      <td>124.0</td>\n",
       "      <td>248.0</td>\n",
       "      <td>404.0</td>\n",
       "      <td>524.0</td>\n",
       "    </tr>\n",
       "  </tbody>\n",
       "</table>\n",
       "</div>"
      ],
      "text/plain": [
       "            count          mean           std     min      25%      50%  \\\n",
       "Price    400000.0  21146.919312  10753.664940  5001.0  13499.0  18450.0   \n",
       "Year     400000.0   2013.198125      3.292326  1997.0   2012.0   2014.0   \n",
       "Mileage  400000.0  55072.956895  40881.018845     5.0  25841.0  42955.0   \n",
       "State    400000.0     24.034658     15.325588     0.0      9.0     24.0   \n",
       "Make     400000.0     15.833530     10.299097     0.0      8.0     13.0   \n",
       "Model    400000.0    254.827082    148.634414     0.0    124.0    248.0   \n",
       "\n",
       "             75%        max  \n",
       "Price    26999.0    79999.0  \n",
       "Year      2016.0     2018.0  \n",
       "Mileage  77433.0  2457832.0  \n",
       "State       39.0       50.0  \n",
       "Make        20.0       37.0  \n",
       "Model      404.0      524.0  "
      ]
     },
     "execution_count": 259,
     "metadata": {},
     "output_type": "execute_result"
    }
   ],
   "source": [
    "# Descriptivos del Set de entrenamiento\n",
    "dataTraining.describe().T"
   ]
  },
  {
   "cell_type": "code",
   "execution_count": 267,
   "metadata": {},
   "outputs": [],
   "source": [
    "# Tratamiento de variables categóricas en set de prueba\n",
    "dataTesting['State'] = LabelEncoder().fit_transform(dataTesting['State'])\n",
    "dataTesting['Make'] = LabelEncoder().fit_transform(dataTesting['Make'])\n",
    "dataTesting['Model'] = LabelEncoder().fit_transform(dataTesting['Model'])"
   ]
  },
  {
   "cell_type": "code",
   "execution_count": 268,
   "metadata": {},
   "outputs": [
    {
     "data": {
      "text/html": [
       "<div>\n",
       "<style scoped>\n",
       "    .dataframe tbody tr th:only-of-type {\n",
       "        vertical-align: middle;\n",
       "    }\n",
       "\n",
       "    .dataframe tbody tr th {\n",
       "        vertical-align: top;\n",
       "    }\n",
       "\n",
       "    .dataframe thead th {\n",
       "        text-align: right;\n",
       "    }\n",
       "</style>\n",
       "<table border=\"1\" class=\"dataframe\">\n",
       "  <thead>\n",
       "    <tr style=\"text-align: right;\">\n",
       "      <th></th>\n",
       "      <th>count</th>\n",
       "      <th>mean</th>\n",
       "      <th>std</th>\n",
       "      <th>min</th>\n",
       "      <th>25%</th>\n",
       "      <th>50%</th>\n",
       "      <th>75%</th>\n",
       "      <th>max</th>\n",
       "    </tr>\n",
       "  </thead>\n",
       "  <tbody>\n",
       "    <tr>\n",
       "      <th>Year</th>\n",
       "      <td>100000.0</td>\n",
       "      <td>2013.19337</td>\n",
       "      <td>3.281366</td>\n",
       "      <td>1997.0</td>\n",
       "      <td>2012.0</td>\n",
       "      <td>2014.0</td>\n",
       "      <td>2016.00</td>\n",
       "      <td>2018.0</td>\n",
       "    </tr>\n",
       "    <tr>\n",
       "      <th>Mileage</th>\n",
       "      <td>100000.0</td>\n",
       "      <td>55090.30418</td>\n",
       "      <td>40961.270168</td>\n",
       "      <td>5.0</td>\n",
       "      <td>25898.0</td>\n",
       "      <td>43128.0</td>\n",
       "      <td>77315.25</td>\n",
       "      <td>1428913.0</td>\n",
       "    </tr>\n",
       "    <tr>\n",
       "      <th>State</th>\n",
       "      <td>100000.0</td>\n",
       "      <td>23.94423</td>\n",
       "      <td>15.312363</td>\n",
       "      <td>0.0</td>\n",
       "      <td>9.0</td>\n",
       "      <td>23.0</td>\n",
       "      <td>38.00</td>\n",
       "      <td>50.0</td>\n",
       "    </tr>\n",
       "    <tr>\n",
       "      <th>Make</th>\n",
       "      <td>100000.0</td>\n",
       "      <td>15.28286</td>\n",
       "      <td>9.953044</td>\n",
       "      <td>0.0</td>\n",
       "      <td>8.0</td>\n",
       "      <td>12.0</td>\n",
       "      <td>19.00</td>\n",
       "      <td>36.0</td>\n",
       "    </tr>\n",
       "    <tr>\n",
       "      <th>Model</th>\n",
       "      <td>100000.0</td>\n",
       "      <td>253.68421</td>\n",
       "      <td>148.358312</td>\n",
       "      <td>0.0</td>\n",
       "      <td>123.0</td>\n",
       "      <td>248.0</td>\n",
       "      <td>400.00</td>\n",
       "      <td>524.0</td>\n",
       "    </tr>\n",
       "  </tbody>\n",
       "</table>\n",
       "</div>"
      ],
      "text/plain": [
       "            count         mean           std     min      25%      50%  \\\n",
       "Year     100000.0   2013.19337      3.281366  1997.0   2012.0   2014.0   \n",
       "Mileage  100000.0  55090.30418  40961.270168     5.0  25898.0  43128.0   \n",
       "State    100000.0     23.94423     15.312363     0.0      9.0     23.0   \n",
       "Make     100000.0     15.28286      9.953044     0.0      8.0     12.0   \n",
       "Model    100000.0    253.68421    148.358312     0.0    123.0    248.0   \n",
       "\n",
       "              75%        max  \n",
       "Year      2016.00     2018.0  \n",
       "Mileage  77315.25  1428913.0  \n",
       "State       38.00       50.0  \n",
       "Make        19.00       36.0  \n",
       "Model      400.00      524.0  "
      ]
     },
     "execution_count": 268,
     "metadata": {},
     "output_type": "execute_result"
    }
   ],
   "source": [
    "# Descriptivos del Set de prueba\n",
    "dataTesting.describe().T"
   ]
  },
  {
   "cell_type": "code",
   "execution_count": 37,
   "metadata": {},
   "outputs": [
    {
     "data": {
      "image/png": "[encoded data removed]",
      "text/plain": [
       "<Figure size 360x360 with 2 Axes>"
      ]
     },
     "metadata": {
      "needs_background": "light"
     },
     "output_type": "display_data"
    }
   ],
   "source": [
    "# Matriz de correlaciones en set de entrenamiento\n",
    "plt.figure(figsize=(5, 5))\n",
    "corr = dataTraining.corr()\n",
    "sns.heatmap(round(corr,2), annot=True, cmap=\"Blues\", annot_kws={'size': 10})\n",
    "plt.show()"
   ]
  },
  {
   "cell_type": "code",
   "execution_count": 272,
   "metadata": {},
   "outputs": [
    {
     "data": {
      "text/plain": [
       "<AxesSubplot:xlabel='Year'>"
      ]
     },
     "execution_count": 272,
     "metadata": {},
     "output_type": "execute_result"
    },
    {
     "data": {
      "image/png": "[encoded data removed]",
      "text/plain": [
       "<Figure size 432x288 with 1 Axes>"
      ]
     },
     "metadata": {
      "needs_background": "light"
     },
     "output_type": "display_data"
    }
   ],
   "source": [
    "# Análisis de Precio promedio según año de fabricación\n",
    "dataTraining.groupby('Year').Price.mean().plot()"
   ]
  },
  {
   "cell_type": "markdown",
   "metadata": {},
   "source": [
    "## 2. Calibración del Modelo"
   ]
  },
  {
   "cell_type": "code",
   "execution_count": 273,
   "metadata": {},
   "outputs": [],
   "source": [
    "# Partimos los datasets en Train y Test \n",
    "\n",
    "X=dataTraining.iloc[:,1:6]\n",
    "y=dataTraining.Price\n",
    "\n",
    "XTrain, XTest, yTrain, yTest = train_test_split(X, y, test_size=0.33, random_state=0)"
   ]
  },
  {
   "cell_type": "code",
   "execution_count": 274,
   "metadata": {},
   "outputs": [
    {
     "name": "stdout",
     "output_type": "stream",
     "text": [
      "El mean_squared_error en la muestra de test es:\n",
      "8949.031509811592\n"
     ]
    }
   ],
   "source": [
    "# Modelo 1: Regresion Lineal simple\n",
    "\n",
    "linmod=LinearRegression()\n",
    "linmod.fit(XTrain,yTrain)\n",
    "\n",
    "prediccion=linmod.predict(XTest)\n",
    "\n",
    "mse = metrics.mean_squared_error(yTest, prediccion, squared=False)\n",
    "print('El mean_squared_error en la muestra de test es:')\n",
    "print(mse)\n",
    "\n"
   ]
  },
  {
   "cell_type": "code",
   "execution_count": 263,
   "metadata": {},
   "outputs": [
    {
     "name": "stdout",
     "output_type": "stream",
     "text": [
      "El mean_squared_error en la muestra de test es:\n",
      "3808.0782097420347\n"
     ]
    }
   ],
   "source": [
    "#Modelo 2: Random Forest\n",
    "\n",
    "# Definición de modelo Random Forest para un problema de regresión\n",
    "clf = RandomForestRegressor(random_state=1, n_jobs=-1 )\n",
    "clf.fit(XTrain, yTrain)\n",
    "\n",
    "prediccion=clf.predict(XTest)\n",
    "\n",
    "mse = metrics.mean_squared_error(yTest, prediccion, squared=False)\n",
    "print('El mean_squared_error en la muestra de test es:')\n",
    "print(mse)"
   ]
  },
  {
   "cell_type": "code",
   "execution_count": 60,
   "metadata": {},
   "outputs": [
    {
     "name": "stdout",
     "output_type": "stream",
     "text": [
      "max_mse:  -24229603.50843081\n",
      "feat_max_mse:  21\n"
     ]
    },
    {
     "data": {
      "image/png": "[encoded data removed]",
      "text/plain": [
       "<Figure size 432x288 with 1 Axes>"
      ]
     },
     "metadata": {
      "needs_background": "light"
     },
     "output_type": "display_data"
    }
   ],
   "source": [
    "# Calibración\n",
    "\n",
    "# Calibración de max_depth\n",
    "\n",
    "# Creación de lista de valores para iterar sobre diferentes valores de max_depth\n",
    "depth_range =  range(1, 100,10)\n",
    "\n",
    "# Definición de lista para almacenar la exactitud (accuracy) promedio para cada valor de max_depth\n",
    "mse_scores = []\n",
    "\n",
    "# Uso de un 5-fold cross-validation para cada valor de max_depth\n",
    "for depth in depth_range:\n",
    "    clf = RandomForestRegressor(max_depth=depth, random_state=1, n_jobs=-1)\n",
    "    mse_scores.append(cross_val_score(clf, XTrain, yTrain, cv=5, scoring='neg_mean_squared_error').mean())\n",
    "    \n",
    "plt.plot(depth_range, mse_scores)\n",
    "plt.xlabel('max_depth')\n",
    "plt.ylabel('neg_mean_squared_error')\n",
    "\n",
    "# Mejores parámetros\n",
    "max_mse_depth = np.max(mse_scores)\n",
    "depth_max_mse = depth_range[mse_scores.index(max_mse_depth)]\n",
    "print(\"max_mse: \", max_mse_depth)\n",
    "print(\"feat_max_mse: \", depth_max_mse)"
   ]
  },
  {
   "cell_type": "code",
   "execution_count": 61,
   "metadata": {},
   "outputs": [
    {
     "name": "stdout",
     "output_type": "stream",
     "text": [
      "max_mse:  -24058010.18252657\n",
      "feat_max_mse:  270\n"
     ]
    },
    {
     "data": {
      "image/png": "[encoded data removed]",
      "text/plain": [
       "<Figure size 432x288 with 1 Axes>"
      ]
     },
     "metadata": {
      "needs_background": "light"
     },
     "output_type": "display_data"
    }
   ],
   "source": [
    "#Calibración de n_estimators\n",
    "\n",
    "# Creación de lista de valores para iterar sobre diferentes valores de n_estimators\n",
    "estimator_range =  range(10, 310, 10)\n",
    "\n",
    "# Definición de lista para almacenar la exactitud (accuracy) promedio para cada valor de n_estimators\n",
    "mse_scores = []\n",
    "\n",
    "# Uso de un 5-fold cross-validation para cada valor de n_estimators\n",
    "for estimator in estimator_range:\n",
    "    clf = RandomForestRegressor(max_depth=20, n_estimators=estimator, random_state=1, n_jobs=-1)\n",
    "    mse_scores.append(cross_val_score(clf, XTrain, yTrain, cv=5, scoring='neg_mean_squared_error').mean())\n",
    "\n",
    "plt.plot(estimator_range, mse_scores)\n",
    "plt.xlabel('n_estimators')\n",
    "plt.ylabel('neg_mean_squared_error')\n",
    "\n",
    "# Mejores parámetros\n",
    "max_mse_estimator = np.max(mse_scores)\n",
    "estimator_max_mse = estimator_range[mse_scores.index(max_mse_estimator)]\n",
    "print(\"max_mse: \", max_mse_estimator)\n",
    "print(\"feat_max_mse: \", estimator_max_mse)"
   ]
  },
  {
   "cell_type": "code",
   "execution_count": 62,
   "metadata": {},
   "outputs": [
    {
     "name": "stdout",
     "output_type": "stream",
     "text": [
      "max_mse:  -24062307.874021895\n",
      "feat_max_mse:  4\n"
     ]
    },
    {
     "data": {
      "image/png": "[encoded data removed]",
      "text/plain": [
       "<Figure size 432x288 with 1 Axes>"
      ]
     },
     "metadata": {
      "needs_background": "light"
     },
     "output_type": "display_data"
    }
   ],
   "source": [
    "# Calibración de max_features\n",
    "\n",
    "# Creación de lista de valores para iterar sobre diferentes valores de max_features\n",
    "feature_range = range(1, len(XTrain.columns)+1)\n",
    "\n",
    "# Definición de lista para almacenar la exactitud (accuracy) promedio para cada valor de max_features\n",
    "mse_scores = []\n",
    "\n",
    "# Uso de un 5-fold cross-validation para cada valor de max_features\n",
    "for feature in feature_range:\n",
    "    clf = RandomForestRegressor(max_depth=20, n_estimators=200,max_features=feature, random_state=1, n_jobs=-1)\n",
    "    mse_scores.append(cross_val_score(clf, XTrain, yTrain, cv=5, scoring='neg_mean_squared_error').mean())\n",
    "\n",
    "# Gráfica del desempeño del modelo vs la cantidad de max_features\n",
    "plt.plot(feature_range, mse_scores)\n",
    "plt.xlabel('max_features')\n",
    "plt.ylabel('neg_mean_squared_error')\n",
    "\n",
    "# Mejores parámetros\n",
    "max_mse_feature = np.max(mse_scores)\n",
    "feature_max_mse = feature_range[mse_scores.index(max_mse_feature)]\n",
    "print(\"max_mse: \", max_mse_feature)\n",
    "print(\"feat_max_mse: \", feature_max_mse)"
   ]
  },
  {
   "cell_type": "code",
   "execution_count": 264,
   "metadata": {},
   "outputs": [
    {
     "name": "stdout",
     "output_type": "stream",
     "text": [
      "El mean_squared_error en la muestra de test es:\n",
      "3648.5144181799037\n"
     ]
    }
   ],
   "source": [
    "#Random Forest Calibrado\n",
    "\n",
    "# Definición de modelo Random Forest para un problema de regresión\n",
    "clf = RandomForestRegressor(max_depth=21, n_estimators=300, max_features=4, random_state=1, n_jobs=-1 )\n",
    "#clf = RandomForestRegressor(max_depth=21, n_estimators=270, max_features=2, random_state=1, n_jobs=-1 )\n",
    "clf.fit(XTrain, yTrain)\n",
    "\n",
    "prediccion=clf.predict(XTest)\n",
    "\n",
    "mse = metrics.mean_squared_error(yTest, prediccion, squared=False)\n",
    "print('El mean_squared_error en la muestra de test es:')\n",
    "print(mse)"
   ]
  },
  {
   "cell_type": "code",
   "execution_count": 206,
   "metadata": {},
   "outputs": [
    {
     "name": "stdout",
     "output_type": "stream",
     "text": [
      "El mean_squared_error en la muestra de test es:\n",
      "3902.9019293329175\n"
     ]
    }
   ],
   "source": [
    "#Modelo 3: XGBoost\n",
    "\n",
    "clf = XGBRegressor(\n",
    "    random_state=1)\n",
    "\n",
    "# Entrenamiento (fit) y desempeño del modelo XGBClassifier\n",
    "clf.fit(XTrain, yTrain)\n",
    "y_pred = clf.predict(XTest)\n",
    "mse= metrics.mean_squared_error(y_pred, yTest.values, squared=False)\n",
    "print('El mean_squared_error en la muestra de test es:')\n",
    "print(mse)\n",
    "\n"
   ]
  },
  {
   "cell_type": "code",
   "execution_count": 65,
   "metadata": {},
   "outputs": [
    {
     "name": "stdout",
     "output_type": "stream",
     "text": [
      "max_mse:  -21086268.08717472\n",
      "feat_max_mse:  0.21\n"
     ]
    },
    {
     "data": {
      "image/png": "[encoded data removed]",
      "text/plain": [
       "<Figure size 432x288 with 1 Axes>"
      ]
     },
     "metadata": {
      "needs_background": "light"
     },
     "output_type": "display_data"
    }
   ],
   "source": [
    "# Calibración\n",
    "\n",
    "# Calibración de learning_rate\n",
    "\n",
    "# Creación de lista de valores para iterar sobre diferentes valores de learning_rate\n",
    "learning_range = range(1, 30, 1)\n",
    "\n",
    "# Definición de lista para almacenar la exactitud (accuracy) promedio para cada valor de learning_rate\n",
    "mse_scores = []\n",
    "\n",
    "# Uso de un 5-fold cross-validation para cada valor de learning_rate\n",
    "for l in learning_range:\n",
    "    clf = XGBRegressor(learning_rate= l/100, random_state=1)\n",
    "    mse_scores.append(cross_val_score(clf, XTrain, yTrain, cv=5, scoring='neg_mean_squared_error').mean())\n",
    "\n",
    "# Gráfica del desempeño del modelo vs learning_rate\n",
    "plt.plot(learning_range, mse_scores)\n",
    "plt.xlabel('learning_range')\n",
    "plt.ylabel('neg_mean_squared_error')\n",
    "\n",
    "\n",
    "# Mejores parámetros\n",
    "max_mse_lrate = np.max(mse_scores)\n",
    "lrate_max_mse = learning_range[mse_scores.index(max_mse_lrate)]/100\n",
    "print(\"max_mse: \", max_mse_lrate)\n",
    "print(\"feat_max_mse: \", lrate_max_mse)"
   ]
  },
  {
   "cell_type": "code",
   "execution_count": 66,
   "metadata": {},
   "outputs": [
    {
     "name": "stdout",
     "output_type": "stream",
     "text": [
      "max_mse:  -21338200.407705504\n",
      "pgamma_max_mse:  0\n"
     ]
    },
    {
     "data": {
      "image/png": "[encoded data removed]",
      "text/plain": [
       "<Figure size 432x288 with 1 Axes>"
      ]
     },
     "metadata": {
      "needs_background": "light"
     },
     "output_type": "display_data"
    }
   ],
   "source": [
    "# Calibración de gamma\n",
    "\n",
    "# Creación de lista de valores para iterar sobre diferentes valores de gamma\n",
    "gamma_range = range(0, 100, 10)\n",
    "\n",
    "# Definición de lista para almacenar la exactitud (accuracy) promedio para cada valor de gamma\n",
    "mse_scores = []\n",
    "\n",
    "# Uso de un 5-fold cross-validation para cada valor de gamma\n",
    "for g in gamma_range:\n",
    "    clf = XGBRegressor(learning_rate=0.29, gamma= g, random_state=1)\n",
    "    mse_scores.append(cross_val_score(clf, XTrain, yTrain, cv=5, scoring='neg_mean_squared_error').mean())\n",
    "\n",
    "# Gráfica del desempeño del modelo vs gamma\n",
    "plt.plot(gamma_range, mse_scores)\n",
    "plt.xlabel('gamma_range')\n",
    "plt.ylabel('neg_mean_squared_error')\n",
    "\n",
    "# Mejores parámetros\n",
    "max_mse_pgamma = np.max(mse_scores)\n",
    "pgamma_max_mse = gamma_range[mse_scores.index(max_mse_pgamma)]\n",
    "print(\"max_mse: \", max_mse_pgamma)\n",
    "print(\"pgamma_max_mse: \", pgamma_max_mse)"
   ]
  },
  {
   "cell_type": "code",
   "execution_count": 68,
   "metadata": {},
   "outputs": [
    {
     "name": "stdout",
     "output_type": "stream",
     "text": [
      "max_mse:  -24557826.722545095\n",
      "max_depth_max_mse:  10\n"
     ]
    },
    {
     "data": {
      "image/png": "[encoded data removed]",
      "text/plain": [
       "<Figure size 432x288 with 1 Axes>"
      ]
     },
     "metadata": {
      "needs_background": "light"
     },
     "output_type": "display_data"
    }
   ],
   "source": [
    "# Calibración de max_depth\n",
    "\n",
    "# Creación de lista de valores para iterar sobre diferentes valores de gamma\n",
    "max_depth_range = range(0, 30, 10)\n",
    "\n",
    "# Definición de lista para almacenar la exactitud (accuracy) promedio para cada valor de gamma\n",
    "mse_scores = []\n",
    "\n",
    "# Uso de un 5-fold cross-validation para cada valor de gamma\n",
    "for m in max_depth_range:\n",
    "    clf = XGBRegressor(learning_rate=0.29, max_depth= m, random_state=1)\n",
    "    mse_scores.append(cross_val_score(clf, XTrain, yTrain, cv=5, scoring='neg_mean_squared_error').mean())\n",
    "\n",
    "# Gráfica del desempeño del modelo vs gamma\n",
    "plt.plot(max_depth_range, mse_scores)\n",
    "plt.xlabel('max_depth_range')\n",
    "plt.ylabel('neg_mean_squared_error')\n",
    "\n",
    "# Mejores parámetros\n",
    "max_mse_pgamma = np.max(mse_scores)\n",
    "pgamma_max_mse = max_depth_range[mse_scores.index(max_mse_pgamma)]\n",
    "print(\"max_mse: \", max_mse_pgamma)\n",
    "print(\"max_depth_max_mse: \", pgamma_max_mse)"
   ]
  },
  {
   "cell_type": "code",
   "execution_count": 69,
   "metadata": {},
   "outputs": [
    {
     "name": "stdout",
     "output_type": "stream",
     "text": [
      "max_mse:  -24394742.248457503\n",
      "max_depth_max_mse:  60\n"
     ]
    },
    {
     "data": {
      "image/png": "[encoded data removed]",
      "text/plain": [
       "<Figure size 432x288 with 1 Axes>"
      ]
     },
     "metadata": {
      "needs_background": "light"
     },
     "output_type": "display_data"
    }
   ],
   "source": [
    "# Calibración de n_estimators\n",
    "\n",
    "# Creación de lista de valores para iterar sobre diferentes valores de gamma\n",
    "n_estimators_range = range(0, 100, 10)\n",
    "\n",
    "# Definición de lista para almacenar la exactitud (accuracy) promedio para cada valor de gamma\n",
    "mse_scores = []\n",
    "\n",
    "# Uso de un 5-fold cross-validation para cada valor de gamma\n",
    "for e in n_estimators_range:\n",
    "    clf = XGBRegressor(learning_rate=0.29, max_depth= 10, n_estimators=e, random_state=1)\n",
    "    mse_scores.append(cross_val_score(clf, XTrain, yTrain, cv=5, scoring='neg_mean_squared_error').mean())\n",
    "\n",
    "# Gráfica del desempeño del modelo vs gamma\n",
    "plt.plot(n_estimators_range, mse_scores)\n",
    "plt.xlabel('n_estimators_range')\n",
    "plt.ylabel('neg_mean_squared_error')\n",
    "\n",
    "# Mejores parámetros\n",
    "max_mse_pgamma = np.max(mse_scores)\n",
    "pgamma_max_mse = n_estimators_range[mse_scores.index(max_mse_pgamma)]\n",
    "print(\"max_mse: \", max_mse_pgamma)\n",
    "print(\"max_depth_max_mse: \", pgamma_max_mse)"
   ]
  },
  {
   "cell_type": "code",
   "execution_count": 72,
   "metadata": {},
   "outputs": [
    {
     "name": "stdout",
     "output_type": "stream",
     "text": [
      "max_mse:  -32375896.48919301\n",
      "feat_max_mse:  0.29\n"
     ]
    },
    {
     "data": {
      "image/png": "[encoded data removed]",
      "text/plain": [
       "<Figure size 432x288 with 1 Axes>"
      ]
     },
     "metadata": {
      "needs_background": "light"
     },
     "output_type": "display_data"
    }
   ],
   "source": [
    "# Calibración de subsample\n",
    "\n",
    "# Creación de lista de valores para iterar sobre diferentes valores de learning_rate\n",
    "subsample_range = range(1, 30, 1)\n",
    "\n",
    "# Definición de lista para almacenar la exactitud (accuracy) promedio para cada valor de learning_rate\n",
    "mse_scores = []\n",
    "\n",
    "# Uso de un 5-fold cross-validation para cada valor de learning_rate\n",
    "for s in subsample_range:\n",
    "    clf = XGBRegressor(learning_rate=0.29, max_depth= 10, n_estimators=e, subsample= s/100, random_state=1)\n",
    "    mse_scores.append(cross_val_score(clf, XTrain, yTrain, cv=5, scoring='neg_mean_squared_error').mean())\n",
    "\n",
    "# Gráfica del desempeño del modelo vs learning_rate\n",
    "plt.plot(subsample_range, mse_scores)\n",
    "plt.xlabel('subsample_range')\n",
    "plt.ylabel('neg_mean_squared_error')\n",
    "\n",
    "\n",
    "# Mejores parámetros\n",
    "max_mse_lrate = np.max(mse_scores)\n",
    "lrate_max_mse = subsample_range[mse_scores.index(max_mse_lrate)]/100\n",
    "print(\"max_mse: \", max_mse_lrate)\n",
    "print(\"feat_max_mse: \", lrate_max_mse)"
   ]
  },
  {
   "cell_type": "code",
   "execution_count": 275,
   "metadata": {},
   "outputs": [
    {
     "name": "stdout",
     "output_type": "stream",
     "text": [
      "El mean_squared_error en la muestra de test es:\n",
      "3726.438332628222\n"
     ]
    }
   ],
   "source": [
    "#XGBoost Calibrado\n",
    "\n",
    "clf = XGBRegressor(\n",
    "    learning_rate=0.29,\n",
    "    gamma=0,\n",
    "    max_depth=10,\n",
    "    n_estimators=60, \n",
    "    subsample=0.29, \n",
    "    random_state=1)\n",
    "\n",
    "# Entrenamiento (fit) y desempeño del modelo XGBClassifier\n",
    "clf.fit(XTrain, yTrain)\n",
    "y_pred = clf.predict(XTest)\n",
    "mse= metrics.mean_squared_error(y_pred, yTest.values, squared=False)\n",
    "print('El mean_squared_error en la muestra de test es:')\n",
    "print(mse)\n"
   ]
  },
  {
   "cell_type": "code",
   "execution_count": 266,
   "metadata": {},
   "outputs": [
    {
     "data": {
      "text/html": [
       "<div>\n",
       "<style scoped>\n",
       "    .dataframe tbody tr th:only-of-type {\n",
       "        vertical-align: middle;\n",
       "    }\n",
       "\n",
       "    .dataframe tbody tr th {\n",
       "        vertical-align: top;\n",
       "    }\n",
       "\n",
       "    .dataframe thead th {\n",
       "        text-align: right;\n",
       "    }\n",
       "</style>\n",
       "<table border=\"1\" class=\"dataframe\">\n",
       "  <thead>\n",
       "    <tr style=\"text-align: right;\">\n",
       "      <th></th>\n",
       "      <th>Price</th>\n",
       "    </tr>\n",
       "    <tr>\n",
       "      <th>ID</th>\n",
       "      <th></th>\n",
       "    </tr>\n",
       "  </thead>\n",
       "  <tbody>\n",
       "    <tr>\n",
       "      <th>0</th>\n",
       "      <td>18515.479378</td>\n",
       "    </tr>\n",
       "    <tr>\n",
       "      <th>1</th>\n",
       "      <td>34212.540709</td>\n",
       "    </tr>\n",
       "    <tr>\n",
       "      <th>2</th>\n",
       "      <td>23960.747300</td>\n",
       "    </tr>\n",
       "    <tr>\n",
       "      <th>3</th>\n",
       "      <td>9863.857755</td>\n",
       "    </tr>\n",
       "    <tr>\n",
       "      <th>4</th>\n",
       "      <td>31189.176238</td>\n",
       "    </tr>\n",
       "    <tr>\n",
       "      <th>...</th>\n",
       "      <td>...</td>\n",
       "    </tr>\n",
       "    <tr>\n",
       "      <th>99995</th>\n",
       "      <td>22706.482036</td>\n",
       "    </tr>\n",
       "    <tr>\n",
       "      <th>99996</th>\n",
       "      <td>39819.032056</td>\n",
       "    </tr>\n",
       "    <tr>\n",
       "      <th>99997</th>\n",
       "      <td>19819.542257</td>\n",
       "    </tr>\n",
       "    <tr>\n",
       "      <th>99998</th>\n",
       "      <td>18063.251558</td>\n",
       "    </tr>\n",
       "    <tr>\n",
       "      <th>99999</th>\n",
       "      <td>18922.161021</td>\n",
       "    </tr>\n",
       "  </tbody>\n",
       "</table>\n",
       "<p>100000 rows × 1 columns</p>\n",
       "</div>"
      ],
      "text/plain": [
       "              Price\n",
       "ID                 \n",
       "0      18515.479378\n",
       "1      34212.540709\n",
       "2      23960.747300\n",
       "3       9863.857755\n",
       "4      31189.176238\n",
       "...             ...\n",
       "99995  22706.482036\n",
       "99996  39819.032056\n",
       "99997  19819.542257\n",
       "99998  18063.251558\n",
       "99999  18922.161021\n",
       "\n",
       "[100000 rows x 1 columns]"
      ]
     },
     "execution_count": 266,
     "metadata": {},
     "output_type": "execute_result"
    }
   ],
   "source": [
    "# Predicción del conjunto de test\n",
    "\n",
    "Dataset=dataTesting.iloc[:,:]\n",
    "\n",
    "# Definición de modelo Random Forest para un problema de regresión\n",
    "clf = RandomForestRegressor(max_depth=21, n_estimators=300, max_features=4, random_state=1, n_jobs=-1)\n",
    "clf.fit(XTrain, yTrain)\n",
    "\n",
    "prediccion=clf.predict(Dataset)\n",
    "\n",
    "y_pred = pd.DataFrame(prediccion, index=Dataset.index, columns=['Price'])\n",
    "y_pred"
   ]
  },
  {
   "cell_type": "code",
   "execution_count": 137,
   "metadata": {},
   "outputs": [
    {
     "data": {
      "text/html": [
       "<div>\n",
       "<style scoped>\n",
       "    .dataframe tbody tr th:only-of-type {\n",
       "        vertical-align: middle;\n",
       "    }\n",
       "\n",
       "    .dataframe tbody tr th {\n",
       "        vertical-align: top;\n",
       "    }\n",
       "\n",
       "    .dataframe thead th {\n",
       "        text-align: right;\n",
       "    }\n",
       "</style>\n",
       "<table border=\"1\" class=\"dataframe\">\n",
       "  <thead>\n",
       "    <tr style=\"text-align: right;\">\n",
       "      <th></th>\n",
       "      <th>Price</th>\n",
       "    </tr>\n",
       "    <tr>\n",
       "      <th>ID</th>\n",
       "      <th></th>\n",
       "    </tr>\n",
       "  </thead>\n",
       "  <tbody>\n",
       "    <tr>\n",
       "      <th>0</th>\n",
       "      <td>18680.703125</td>\n",
       "    </tr>\n",
       "    <tr>\n",
       "      <th>1</th>\n",
       "      <td>36726.113281</td>\n",
       "    </tr>\n",
       "    <tr>\n",
       "      <th>2</th>\n",
       "      <td>21527.441406</td>\n",
       "    </tr>\n",
       "    <tr>\n",
       "      <th>3</th>\n",
       "      <td>8950.586914</td>\n",
       "    </tr>\n",
       "    <tr>\n",
       "      <th>4</th>\n",
       "      <td>30080.765625</td>\n",
       "    </tr>\n",
       "  </tbody>\n",
       "</table>\n",
       "</div>"
      ],
      "text/plain": [
       "           Price\n",
       "ID              \n",
       "0   18680.703125\n",
       "1   36726.113281\n",
       "2   21527.441406\n",
       "3    8950.586914\n",
       "4   30080.765625"
      ]
     },
     "execution_count": 137,
     "metadata": {},
     "output_type": "execute_result"
    }
   ],
   "source": [
    "# Guardar predicciones en formato exigido en la competencia de kaggle\n",
    "y_pred.to_csv('test_submission.csv', index_label='ID')\n",
    "y_pred.head()"
   ]
  },
  {
   "cell_type": "code",
   "execution_count": 2,
   "metadata": {},
   "outputs": [
    {
     "data": {
      "text/plain": [
       "RandomForestRegressor(n_jobs=-1, random_state=1)"
      ]
     },
     "execution_count": 2,
     "metadata": {},
     "output_type": "execute_result"
    }
   ],
   "source": [
    "# Entrenamiento Final del Modelo para el API\n",
    "\n",
    "# Carga de datos de archivo .csv\n",
    "dataTraining = pd.read_csv('https://raw.githubusercontent.com/albahnsen/MIAD_ML_and_NLP/main/datasets/dataTrain_carListings.zip')\n",
    "\n",
    "#Tomamos una muestra para que el api no sea pesado\n",
    "dataTraining=dataTraining.sample(10000)\n",
    "\n",
    "# Tratamiento de variables categóricas en set de entrenamiento\n",
    "dataTraining['State'] = LabelEncoder().fit_transform(dataTraining['State'])\n",
    "dataTraining['Make'] = LabelEncoder().fit_transform(dataTraining['Make'])\n",
    "dataTraining['Model'] = LabelEncoder().fit_transform(dataTraining['Model'])\n",
    "\n",
    "# Partimos los datasets en Train y Test \n",
    "\n",
    "X=dataTraining.iloc[:,1:6]\n",
    "y=dataTraining.Price\n",
    "\n",
    "XTrain, XTest, yTrain, yTest = train_test_split(X, y, test_size=0.33, random_state=0)\n",
    "\n",
    "#clf = RandomForestRegressor(max_depth=21, n_estimators=300, max_features=4, random_state=1, n_jobs=-1 )\n",
    "clf = RandomForestRegressor(random_state=1, n_jobs=-1 )\n",
    "clf.fit(XTrain, yTrain)\n",
    "\n"
   ]
  },
  {
   "cell_type": "code",
   "execution_count": 4,
   "metadata": {},
   "outputs": [
    {
     "data": {
      "text/plain": [
       "['model_deployment/pricing_clf.pkl']"
      ]
     },
     "execution_count": 4,
     "metadata": {},
     "output_type": "execute_result"
    }
   ],
   "source": [
    "# Exportar modelo a archivo binario .pkl\n",
    "import joblib\n",
    "import os\n",
    "os.chdir('..')\n",
    "\n",
    "joblib.dump(clf, 'model_deployment_proyecto1/pricing_clf.pkl', compress=3)"
   ]
  },
  {
   "cell_type": "code",
   "execution_count": 1,
   "metadata": {},
   "outputs": [
    {
     "data": {
      "text/plain": [
       "array([20718.77])"
      ]
     },
     "execution_count": 1,
     "metadata": {},
     "output_type": "execute_result"
    }
   ],
   "source": [
    "# Importar modelo y predicción\n",
    "#import os\n",
    "#os.chdir('..')\n",
    "\n",
    "from model_deployment_proyecto1.modelo_pricing_deployment import predict_price\n",
    "\n",
    "\n",
    "\n",
    "predict_price(2013,5000,\"WA\",\"Toyota\",\"Yaris\")"
   ]
  },
  {
   "cell_type": "code",
   "execution_count": 2,
   "metadata": {},
   "outputs": [
    {
     "name": "stdout",
     "output_type": "stream",
     "text": [
      "Requirement already satisfied: werkzeug==0.16 in c:\\users\\fmartino\\anaconda3\\lib\\site-packages (0.16.0)\n",
      "Note: you may need to restart the kernel to use updated packages.\n"
     ]
    }
   ],
   "source": [
    "#pip install werkzeug==0.16"
   ]
  },
  {
   "cell_type": "code",
   "execution_count": null,
   "metadata": {},
   "outputs": [
    {
     "name": "stdout",
     "output_type": "stream",
     "text": [
      " * Serving Flask app \"__main__\" (lazy loading)\n",
      " * Environment: production\n",
      "   WARNING: This is a development server. Do not use it in a production deployment.\n",
      "   Use a production WSGI server instead.\n",
      " * Debug mode: on\n"
     ]
    },
    {
     "name": "stderr",
     "output_type": "stream",
     "text": [
      " * Running on http://0.0.0.0:5000/ (Press CTRL+C to quit)\n",
      "127.0.0.1 - - [30/Apr/2022 15:48:30] \"GET / HTTP/1.1\" 200 -\n",
      "127.0.0.1 - - [30/Apr/2022 15:48:31] \"GET /swagger.json HTTP/1.1\" 200 -\n",
      "127.0.0.1 - - [30/Apr/2022 15:49:11] \"GET /predict/?Year=2013&Mileage=5000&State=WA&Make=Toyota&Model=Yaris HTTP/1.1\" 200 -\n"
     ]
    }
   ],
   "source": [
    "from flask import Flask\n",
    "from flask_restplus import Api, Resource, fields\n",
    "import joblib\n",
    "from model_deployment_proyecto1.modelo_pricing_deployment import predict_price\n",
    "\n",
    "app = Flask(__name__)\n",
    "\n",
    "api = Api(\n",
    "    app, \n",
    "    version='1.0', \n",
    "    title='Pricing Prediction API',\n",
    "    description='Pricing Prediction API')\n",
    "\n",
    "ns = api.namespace('predict', \n",
    "     description='Pricing Predictor')\n",
    "   \n",
    "parser = api.parser()\n",
    "\n",
    "parser.add_argument(\n",
    "    'Year', \n",
    "    type=int, \n",
    "    required=True, \n",
    "    help='Año de fabricación del vehiculo', \n",
    "    location='args')\n",
    "\n",
    "parser.add_argument(\n",
    "    'Mileage', \n",
    "    type=int, \n",
    "    required=True, \n",
    "    help='Kilometraje del vehiculo', \n",
    "    location='args')\n",
    "\n",
    "parser.add_argument(\n",
    "    'State', \n",
    "    type=str, \n",
    "    required=True, \n",
    "    help='Estado donde se compró el vehiculo', \n",
    "    location='args')\n",
    "\n",
    "parser.add_argument(\n",
    "    'Make', \n",
    "    type=str, \n",
    "    required=True, \n",
    "    help='Marca del vehiculo', \n",
    "    location='args')\n",
    "\n",
    "parser.add_argument(\n",
    "    'Model', \n",
    "    type=str, \n",
    "    required=True, \n",
    "    help='Modelo del vehiculo', \n",
    "    location='args')\n",
    "\n",
    "resource_fields = api.model('Resource', {\n",
    "    'result': fields.String,\n",
    "})\n",
    "\n",
    "@ns.route('/')\n",
    "class PricingApi(Resource):\n",
    "\n",
    "    @api.doc(parser=parser)\n",
    "    @api.marshal_with(resource_fields)\n",
    "    def get(self):\n",
    "        args = parser.parse_args()\n",
    "        \n",
    "        return {\n",
    "         \"result\": predict_price(args['Year'],args['Mileage'],args['State'],args['Make'],args['Model'])\n",
    "        }, 200\n",
    "    \n",
    "    \n",
    "if __name__ == '__main__':\n",
    "    app.run(debug=True, use_reloader=False, host='0.0.0.0', port=5000)\n"
   ]
  },
  {
   "cell_type": "code",
   "execution_count": null,
   "metadata": {},
   "outputs": [],
   "source": [
    "# Ejecución de la aplicación que disponibiliza el modelo de manera local en el puerto 5000\n",
    "#app.run(debug=True, use_reloader=False, host='0.0.0.0', port=5000)"
   ]
  }
 ],
 "metadata": {
  "kernelspec": {
   "display_name": "Python 3",
   "language": "python",
   "name": "python3"
  },
  "language_info": {
   "codemirror_mode": {
    "name": "ipython",
    "version": 3
   },
   "file_extension": ".py",
   "mimetype": "text/x-python",
   "name": "python",
   "nbconvert_exporter": "python",
   "pygments_lexer": "ipython3",
   "version": "3.8.8"
  }
 },
 "nbformat": 4,
 "nbformat_minor": 1
}
