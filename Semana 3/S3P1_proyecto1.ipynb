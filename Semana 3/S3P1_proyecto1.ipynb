{
 "cells": [
  {
   "cell_type": "markdown",
   "metadata": {},
   "source": [
    "![image info](https://raw.githubusercontent.com/albahnsen/MIAD_ML_and_NLP/main/images/banner_1.png)"
   ]
  },
  {
   "cell_type": "markdown",
   "metadata": {},
   "source": [
    "# Proyecto 1 - Predicción de precios de vehículos usados\n",
    "\n",
    "En este proyecto podrán poner en práctica sus conocimientos sobre modelos predictivos basados en árboles y ensambles, y sobre la disponibilización de modelos. Para su desasrrollo tengan en cuenta las instrucciones dadas en la \"Guía del proyecto 1: Predicción de precios de vehículos usados\".\n",
    "\n",
    "**Entrega**: La entrega del proyecto deberán realizarla durante la semana 4. Sin embargo, es importante que avancen en la semana 3 en el modelado del problema y en parte del informe, tal y como se les indicó en la guía.\n",
    "\n",
    "Para hacer la entrega, deberán adjuntar el informe autocontenido en PDF a la actividad de entrega del proyecto que encontrarán en la semana 4, y subir el archivo de predicciones a la [competencia de Kaggle](https://www.kaggle.com/t/4bd64c1deb3c4ffb8ca7ff93c1f1497d)."
   ]
  },
  {
   "cell_type": "markdown",
   "metadata": {},
   "source": [
    "## Datos para la predicción de precios de vehículos usados\n",
    "\n",
    "En este proyecto se usará el conjunto de datos de Car Listings de Kaggle, donde cada observación representa el precio de un automóvil teniendo en cuenta distintas variables como: año, marca, modelo, entre otras. El objetivo es predecir el precio del automóvil. Para más detalles puede visitar el siguiente enlace: [datos](https://www.kaggle.com/jpayne/852k-used-car-listings)."
   ]
  },
  {
   "cell_type": "markdown",
   "metadata": {},
   "source": [
    "## Ejemplo predicción conjunto de test para envío a Kaggle\n",
    "\n",
    "En esta sección encontrarán el formato en el que deben guardar los resultados de la predicción para que puedan subirlos a la competencia en Kaggle."
   ]
  },
  {
   "cell_type": "code",
   "execution_count": 4,
   "metadata": {},
   "outputs": [],
   "source": [
    "import warnings\n",
    "warnings.filterwarnings('ignore')"
   ]
  },
  {
   "cell_type": "code",
   "execution_count": 5,
   "metadata": {},
   "outputs": [],
   "source": [
    "# Importación librerías\n",
    "import pandas as pd\n",
    "import numpy as np\n",
    "\n",
    "# Librerias para gráficos y visualizaciones\n",
    "import matplotlib.pyplot as plt\n",
    "import seaborn as sns\n",
    "\n",
    "#Librerías para preprocesamiento y codificación\n",
    "from sklearn import preprocessing\n",
    "from sklearn.preprocessing import StandardScaler\n",
    "from sklearn.preprocessing import LabelEncoder\n",
    "\n",
    "from sklearn.model_selection import train_test_split\n",
    "from sklearn.linear_model import LinearRegression\n",
    "from sklearn.ensemble import BaggingRegressor\n",
    "from sklearn.tree import DecisionTreeRegressor\n",
    "from sklearn.ensemble import RandomForestRegressor\n",
    "from sklearn.model_selection import cross_val_score\n",
    "from sklearn import metrics\n",
    "from xgboost import XGBRegressor\n",
    "\n",
    "import math\n"
   ]
  },
  {
   "cell_type": "code",
   "execution_count": 6,
   "metadata": {},
   "outputs": [],
   "source": [
    "# Carga de datos de archivo .csv\n",
    "dataTraining = pd.read_csv('https://raw.githubusercontent.com/albahnsen/MIAD_ML_and_NLP/main/datasets/dataTrain_carListings.zip')\n",
    "dataTesting = pd.read_csv('https://raw.githubusercontent.com/albahnsen/MIAD_ML_and_NLP/main/datasets/dataTest_carListings.zip', index_col=0)"
   ]
  },
  {
   "cell_type": "code",
   "execution_count": 7,
   "metadata": {},
   "outputs": [
    {
     "data": {
      "text/html": [
       "<div>\n",
       "<style scoped>\n",
       "    .dataframe tbody tr th:only-of-type {\n",
       "        vertical-align: middle;\n",
       "    }\n",
       "\n",
       "    .dataframe tbody tr th {\n",
       "        vertical-align: top;\n",
       "    }\n",
       "\n",
       "    .dataframe thead th {\n",
       "        text-align: right;\n",
       "    }\n",
       "</style>\n",
       "<table border=\"1\" class=\"dataframe\">\n",
       "  <thead>\n",
       "    <tr style=\"text-align: right;\">\n",
       "      <th></th>\n",
       "      <th>Price</th>\n",
       "      <th>Year</th>\n",
       "      <th>Mileage</th>\n",
       "      <th>State</th>\n",
       "      <th>Make</th>\n",
       "      <th>Model</th>\n",
       "    </tr>\n",
       "  </thead>\n",
       "  <tbody>\n",
       "    <tr>\n",
       "      <th>0</th>\n",
       "      <td>34995</td>\n",
       "      <td>2017</td>\n",
       "      <td>9913</td>\n",
       "      <td>FL</td>\n",
       "      <td>Jeep</td>\n",
       "      <td>Wrangler</td>\n",
       "    </tr>\n",
       "    <tr>\n",
       "      <th>1</th>\n",
       "      <td>37895</td>\n",
       "      <td>2015</td>\n",
       "      <td>20578</td>\n",
       "      <td>OH</td>\n",
       "      <td>Chevrolet</td>\n",
       "      <td>Tahoe4WD</td>\n",
       "    </tr>\n",
       "    <tr>\n",
       "      <th>2</th>\n",
       "      <td>18430</td>\n",
       "      <td>2012</td>\n",
       "      <td>83716</td>\n",
       "      <td>TX</td>\n",
       "      <td>BMW</td>\n",
       "      <td>X5AWD</td>\n",
       "    </tr>\n",
       "    <tr>\n",
       "      <th>3</th>\n",
       "      <td>24681</td>\n",
       "      <td>2014</td>\n",
       "      <td>28729</td>\n",
       "      <td>OH</td>\n",
       "      <td>Cadillac</td>\n",
       "      <td>SRXLuxury</td>\n",
       "    </tr>\n",
       "    <tr>\n",
       "      <th>4</th>\n",
       "      <td>26998</td>\n",
       "      <td>2013</td>\n",
       "      <td>64032</td>\n",
       "      <td>CO</td>\n",
       "      <td>Jeep</td>\n",
       "      <td>Wrangler</td>\n",
       "    </tr>\n",
       "  </tbody>\n",
       "</table>\n",
       "</div>"
      ],
      "text/plain": [
       "   Price  Year  Mileage State       Make      Model\n",
       "0  34995  2017     9913    FL       Jeep   Wrangler\n",
       "1  37895  2015    20578    OH  Chevrolet   Tahoe4WD\n",
       "2  18430  2012    83716    TX        BMW      X5AWD\n",
       "3  24681  2014    28729    OH   Cadillac  SRXLuxury\n",
       "4  26998  2013    64032    CO       Jeep   Wrangler"
      ]
     },
     "execution_count": 7,
     "metadata": {},
     "output_type": "execute_result"
    }
   ],
   "source": [
    "# Visualización datos de entrenamiento\n",
    "dataTraining.head()"
   ]
  },
  {
   "cell_type": "code",
   "execution_count": 8,
   "metadata": {},
   "outputs": [
    {
     "data": {
      "text/html": [
       "<div>\n",
       "<style scoped>\n",
       "    .dataframe tbody tr th:only-of-type {\n",
       "        vertical-align: middle;\n",
       "    }\n",
       "\n",
       "    .dataframe tbody tr th {\n",
       "        vertical-align: top;\n",
       "    }\n",
       "\n",
       "    .dataframe thead th {\n",
       "        text-align: right;\n",
       "    }\n",
       "</style>\n",
       "<table border=\"1\" class=\"dataframe\">\n",
       "  <thead>\n",
       "    <tr style=\"text-align: right;\">\n",
       "      <th></th>\n",
       "      <th>Year</th>\n",
       "      <th>Mileage</th>\n",
       "      <th>State</th>\n",
       "      <th>Make</th>\n",
       "      <th>Model</th>\n",
       "    </tr>\n",
       "    <tr>\n",
       "      <th>ID</th>\n",
       "      <th></th>\n",
       "      <th></th>\n",
       "      <th></th>\n",
       "      <th></th>\n",
       "      <th></th>\n",
       "    </tr>\n",
       "  </thead>\n",
       "  <tbody>\n",
       "    <tr>\n",
       "      <th>0</th>\n",
       "      <td>2014</td>\n",
       "      <td>31909</td>\n",
       "      <td>MD</td>\n",
       "      <td>Nissan</td>\n",
       "      <td>MuranoAWD</td>\n",
       "    </tr>\n",
       "    <tr>\n",
       "      <th>1</th>\n",
       "      <td>2017</td>\n",
       "      <td>5362</td>\n",
       "      <td>FL</td>\n",
       "      <td>Jeep</td>\n",
       "      <td>Wrangler</td>\n",
       "    </tr>\n",
       "    <tr>\n",
       "      <th>2</th>\n",
       "      <td>2014</td>\n",
       "      <td>50300</td>\n",
       "      <td>OH</td>\n",
       "      <td>Ford</td>\n",
       "      <td>FlexLimited</td>\n",
       "    </tr>\n",
       "    <tr>\n",
       "      <th>3</th>\n",
       "      <td>2004</td>\n",
       "      <td>132160</td>\n",
       "      <td>WA</td>\n",
       "      <td>BMW</td>\n",
       "      <td>5</td>\n",
       "    </tr>\n",
       "    <tr>\n",
       "      <th>4</th>\n",
       "      <td>2015</td>\n",
       "      <td>25226</td>\n",
       "      <td>MA</td>\n",
       "      <td>Jeep</td>\n",
       "      <td>Grand</td>\n",
       "    </tr>\n",
       "  </tbody>\n",
       "</table>\n",
       "</div>"
      ],
      "text/plain": [
       "    Year  Mileage State    Make        Model\n",
       "ID                                          \n",
       "0   2014    31909    MD  Nissan    MuranoAWD\n",
       "1   2017     5362    FL    Jeep     Wrangler\n",
       "2   2014    50300    OH    Ford  FlexLimited\n",
       "3   2004   132160    WA     BMW            5\n",
       "4   2015    25226    MA    Jeep        Grand"
      ]
     },
     "execution_count": 8,
     "metadata": {},
     "output_type": "execute_result"
    }
   ],
   "source": [
    "# Visualización datos de test\n",
    "dataTesting.head()"
   ]
  },
  {
   "cell_type": "code",
   "execution_count": 9,
   "metadata": {},
   "outputs": [
    {
     "data": {
      "text/html": [
       "<div>\n",
       "<style scoped>\n",
       "    .dataframe tbody tr th:only-of-type {\n",
       "        vertical-align: middle;\n",
       "    }\n",
       "\n",
       "    .dataframe tbody tr th {\n",
       "        vertical-align: top;\n",
       "    }\n",
       "\n",
       "    .dataframe thead th {\n",
       "        text-align: right;\n",
       "    }\n",
       "</style>\n",
       "<table border=\"1\" class=\"dataframe\">\n",
       "  <thead>\n",
       "    <tr style=\"text-align: right;\">\n",
       "      <th></th>\n",
       "      <th>count</th>\n",
       "      <th>mean</th>\n",
       "      <th>std</th>\n",
       "      <th>min</th>\n",
       "      <th>25%</th>\n",
       "      <th>50%</th>\n",
       "      <th>75%</th>\n",
       "      <th>max</th>\n",
       "    </tr>\n",
       "  </thead>\n",
       "  <tbody>\n",
       "    <tr>\n",
       "      <th>Price</th>\n",
       "      <td>400000.0</td>\n",
       "      <td>21146.919312</td>\n",
       "      <td>10753.664940</td>\n",
       "      <td>5001.0</td>\n",
       "      <td>13499.0</td>\n",
       "      <td>18450.0</td>\n",
       "      <td>26999.0</td>\n",
       "      <td>79999.0</td>\n",
       "    </tr>\n",
       "    <tr>\n",
       "      <th>Year</th>\n",
       "      <td>400000.0</td>\n",
       "      <td>2013.198125</td>\n",
       "      <td>3.292326</td>\n",
       "      <td>1997.0</td>\n",
       "      <td>2012.0</td>\n",
       "      <td>2014.0</td>\n",
       "      <td>2016.0</td>\n",
       "      <td>2018.0</td>\n",
       "    </tr>\n",
       "    <tr>\n",
       "      <th>Mileage</th>\n",
       "      <td>400000.0</td>\n",
       "      <td>55072.956895</td>\n",
       "      <td>40881.018845</td>\n",
       "      <td>5.0</td>\n",
       "      <td>25841.0</td>\n",
       "      <td>42955.0</td>\n",
       "      <td>77433.0</td>\n",
       "      <td>2457832.0</td>\n",
       "    </tr>\n",
       "  </tbody>\n",
       "</table>\n",
       "</div>"
      ],
      "text/plain": [
       "            count          mean           std     min      25%      50%  \\\n",
       "Price    400000.0  21146.919312  10753.664940  5001.0  13499.0  18450.0   \n",
       "Year     400000.0   2013.198125      3.292326  1997.0   2012.0   2014.0   \n",
       "Mileage  400000.0  55072.956895  40881.018845     5.0  25841.0  42955.0   \n",
       "\n",
       "             75%        max  \n",
       "Price    26999.0    79999.0  \n",
       "Year      2016.0     2018.0  \n",
       "Mileage  77433.0  2457832.0  "
      ]
     },
     "execution_count": 9,
     "metadata": {},
     "output_type": "execute_result"
    }
   ],
   "source": [
    "dataTraining.describe().T"
   ]
  },
  {
   "cell_type": "code",
   "execution_count": 10,
   "metadata": {},
   "outputs": [
    {
     "data": {
      "text/plain": [
       "Price      0\n",
       "Year       0\n",
       "Mileage    0\n",
       "State      0\n",
       "Make       0\n",
       "Model      0\n",
       "dtype: int64"
      ]
     },
     "execution_count": 10,
     "metadata": {},
     "output_type": "execute_result"
    }
   ],
   "source": [
    "dataTraining.isna().sum()"
   ]
  },
  {
   "cell_type": "code",
   "execution_count": 11,
   "metadata": {},
   "outputs": [],
   "source": [
    "dataTraining['State'] = LabelEncoder().fit_transform(dataTraining['State'])\n",
    "dataTraining['Make'] = LabelEncoder().fit_transform(dataTraining['Make'])\n",
    "dataTraining['Model'] = LabelEncoder().fit_transform(dataTraining['Model'])"
   ]
  },
  {
   "cell_type": "code",
   "execution_count": 12,
   "metadata": {},
   "outputs": [
    {
     "data": {
      "text/html": [
       "<div>\n",
       "<style scoped>\n",
       "    .dataframe tbody tr th:only-of-type {\n",
       "        vertical-align: middle;\n",
       "    }\n",
       "\n",
       "    .dataframe tbody tr th {\n",
       "        vertical-align: top;\n",
       "    }\n",
       "\n",
       "    .dataframe thead th {\n",
       "        text-align: right;\n",
       "    }\n",
       "</style>\n",
       "<table border=\"1\" class=\"dataframe\">\n",
       "  <thead>\n",
       "    <tr style=\"text-align: right;\">\n",
       "      <th></th>\n",
       "      <th>count</th>\n",
       "      <th>mean</th>\n",
       "      <th>std</th>\n",
       "      <th>min</th>\n",
       "      <th>25%</th>\n",
       "      <th>50%</th>\n",
       "      <th>75%</th>\n",
       "      <th>max</th>\n",
       "    </tr>\n",
       "  </thead>\n",
       "  <tbody>\n",
       "    <tr>\n",
       "      <th>Price</th>\n",
       "      <td>400000.0</td>\n",
       "      <td>21146.919312</td>\n",
       "      <td>10753.664940</td>\n",
       "      <td>5001.0</td>\n",
       "      <td>13499.0</td>\n",
       "      <td>18450.0</td>\n",
       "      <td>26999.0</td>\n",
       "      <td>79999.0</td>\n",
       "    </tr>\n",
       "    <tr>\n",
       "      <th>Year</th>\n",
       "      <td>400000.0</td>\n",
       "      <td>2013.198125</td>\n",
       "      <td>3.292326</td>\n",
       "      <td>1997.0</td>\n",
       "      <td>2012.0</td>\n",
       "      <td>2014.0</td>\n",
       "      <td>2016.0</td>\n",
       "      <td>2018.0</td>\n",
       "    </tr>\n",
       "    <tr>\n",
       "      <th>Mileage</th>\n",
       "      <td>400000.0</td>\n",
       "      <td>55072.956895</td>\n",
       "      <td>40881.018845</td>\n",
       "      <td>5.0</td>\n",
       "      <td>25841.0</td>\n",
       "      <td>42955.0</td>\n",
       "      <td>77433.0</td>\n",
       "      <td>2457832.0</td>\n",
       "    </tr>\n",
       "    <tr>\n",
       "      <th>State</th>\n",
       "      <td>400000.0</td>\n",
       "      <td>24.034658</td>\n",
       "      <td>15.325588</td>\n",
       "      <td>0.0</td>\n",
       "      <td>9.0</td>\n",
       "      <td>24.0</td>\n",
       "      <td>39.0</td>\n",
       "      <td>50.0</td>\n",
       "    </tr>\n",
       "    <tr>\n",
       "      <th>Make</th>\n",
       "      <td>400000.0</td>\n",
       "      <td>15.833530</td>\n",
       "      <td>10.299097</td>\n",
       "      <td>0.0</td>\n",
       "      <td>8.0</td>\n",
       "      <td>13.0</td>\n",
       "      <td>20.0</td>\n",
       "      <td>37.0</td>\n",
       "    </tr>\n",
       "    <tr>\n",
       "      <th>Model</th>\n",
       "      <td>400000.0</td>\n",
       "      <td>254.827082</td>\n",
       "      <td>148.634414</td>\n",
       "      <td>0.0</td>\n",
       "      <td>124.0</td>\n",
       "      <td>248.0</td>\n",
       "      <td>404.0</td>\n",
       "      <td>524.0</td>\n",
       "    </tr>\n",
       "  </tbody>\n",
       "</table>\n",
       "</div>"
      ],
      "text/plain": [
       "            count          mean           std     min      25%      50%  \\\n",
       "Price    400000.0  21146.919312  10753.664940  5001.0  13499.0  18450.0   \n",
       "Year     400000.0   2013.198125      3.292326  1997.0   2012.0   2014.0   \n",
       "Mileage  400000.0  55072.956895  40881.018845     5.0  25841.0  42955.0   \n",
       "State    400000.0     24.034658     15.325588     0.0      9.0     24.0   \n",
       "Make     400000.0     15.833530     10.299097     0.0      8.0     13.0   \n",
       "Model    400000.0    254.827082    148.634414     0.0    124.0    248.0   \n",
       "\n",
       "             75%        max  \n",
       "Price    26999.0    79999.0  \n",
       "Year      2016.0     2018.0  \n",
       "Mileage  77433.0  2457832.0  \n",
       "State       39.0       50.0  \n",
       "Make        20.0       37.0  \n",
       "Model      404.0      524.0  "
      ]
     },
     "execution_count": 12,
     "metadata": {},
     "output_type": "execute_result"
    }
   ],
   "source": [
    "dataTraining.describe().T"
   ]
  },
  {
   "cell_type": "code",
   "execution_count": 13,
   "metadata": {},
   "outputs": [
    {
     "data": {
      "image/png": "[encoded data removed]",
      "text/plain": [
       "<Figure size 360x360 with 2 Axes>"
      ]
     },
     "metadata": {
      "needs_background": "light"
     },
     "output_type": "display_data"
    }
   ],
   "source": [
    "plt.figure(figsize=(5, 5))\n",
    "corr = dataTraining.corr()\n",
    "sns.heatmap(round(corr,2), annot=True, cmap=\"Blues\", annot_kws={'size': 10})\n",
    "plt.show()"
   ]
  },
  {
   "cell_type": "code",
   "execution_count": 14,
   "metadata": {},
   "outputs": [
    {
     "data": {
      "text/html": [
       "<div>\n",
       "<style scoped>\n",
       "    .dataframe tbody tr th:only-of-type {\n",
       "        vertical-align: middle;\n",
       "    }\n",
       "\n",
       "    .dataframe tbody tr th {\n",
       "        vertical-align: top;\n",
       "    }\n",
       "\n",
       "    .dataframe thead th {\n",
       "        text-align: right;\n",
       "    }\n",
       "</style>\n",
       "<table border=\"1\" class=\"dataframe\">\n",
       "  <thead>\n",
       "    <tr style=\"text-align: right;\">\n",
       "      <th></th>\n",
       "      <th>Price</th>\n",
       "      <th>Year</th>\n",
       "      <th>Mileage</th>\n",
       "      <th>State</th>\n",
       "      <th>Make</th>\n",
       "      <th>Model</th>\n",
       "    </tr>\n",
       "  </thead>\n",
       "  <tbody>\n",
       "    <tr>\n",
       "      <th>0</th>\n",
       "      <td>34995</td>\n",
       "      <td>2017</td>\n",
       "      <td>9913</td>\n",
       "      <td>9</td>\n",
       "      <td>17</td>\n",
       "      <td>489</td>\n",
       "    </tr>\n",
       "    <tr>\n",
       "      <th>1</th>\n",
       "      <td>37895</td>\n",
       "      <td>2015</td>\n",
       "      <td>20578</td>\n",
       "      <td>35</td>\n",
       "      <td>6</td>\n",
       "      <td>448</td>\n",
       "    </tr>\n",
       "    <tr>\n",
       "      <th>2</th>\n",
       "      <td>18430</td>\n",
       "      <td>2012</td>\n",
       "      <td>83716</td>\n",
       "      <td>43</td>\n",
       "      <td>2</td>\n",
       "      <td>499</td>\n",
       "    </tr>\n",
       "    <tr>\n",
       "      <th>3</th>\n",
       "      <td>24681</td>\n",
       "      <td>2014</td>\n",
       "      <td>28729</td>\n",
       "      <td>35</td>\n",
       "      <td>5</td>\n",
       "      <td>398</td>\n",
       "    </tr>\n",
       "    <tr>\n",
       "      <th>4</th>\n",
       "      <td>26998</td>\n",
       "      <td>2013</td>\n",
       "      <td>64032</td>\n",
       "      <td>5</td>\n",
       "      <td>17</td>\n",
       "      <td>489</td>\n",
       "    </tr>\n",
       "  </tbody>\n",
       "</table>\n",
       "</div>"
      ],
      "text/plain": [
       "   Price  Year  Mileage  State  Make  Model\n",
       "0  34995  2017     9913      9    17    489\n",
       "1  37895  2015    20578     35     6    448\n",
       "2  18430  2012    83716     43     2    499\n",
       "3  24681  2014    28729     35     5    398\n",
       "4  26998  2013    64032      5    17    489"
      ]
     },
     "execution_count": 14,
     "metadata": {},
     "output_type": "execute_result"
    }
   ],
   "source": [
    "dataTraining.head()"
   ]
  },
  {
   "cell_type": "code",
   "execution_count": 15,
   "metadata": {},
   "outputs": [
    {
     "data": {
      "text/plain": [
       "Model\n",
       "0      15447.912037\n",
       "1      18216.069977\n",
       "2      22545.944162\n",
       "3      34821.419431\n",
       "4      28644.583333\n",
       "           ...     \n",
       "520    42303.085714\n",
       "521     8858.897436\n",
       "522    10001.948718\n",
       "523     9259.902778\n",
       "524     8313.222222\n",
       "Name: Price, Length: 525, dtype: float64"
      ]
     },
     "execution_count": 15,
     "metadata": {},
     "output_type": "execute_result"
    }
   ],
   "source": [
    "dataTraining.groupby('Model').Price.mean()"
   ]
  },
  {
   "cell_type": "code",
   "execution_count": 16,
   "metadata": {},
   "outputs": [
    {
     "data": {
      "text/plain": [
       "<AxesSubplot:xlabel='Year'>"
      ]
     },
     "execution_count": 16,
     "metadata": {},
     "output_type": "execute_result"
    },
    {
     "data": {
      "image/png": "[encoded data removed]",
      "text/plain": [
       "<Figure size 432x288 with 1 Axes>"
      ]
     },
     "metadata": {
      "needs_background": "light"
     },
     "output_type": "display_data"
    }
   ],
   "source": [
    "dataTraining.groupby('Year').Price.mean().plot()"
   ]
  },
  {
   "cell_type": "code",
   "execution_count": 17,
   "metadata": {},
   "outputs": [],
   "source": [
    "X=dataTraining.iloc[:,1:6]\n",
    "y=dataTraining.Price\n",
    "\n",
    "#Partimos los datasets en Train y Test\n",
    "XTrain, XTest, yTrain, yTest = train_test_split(X, y, test_size=0.33, random_state=0)"
   ]
  },
  {
   "cell_type": "code",
   "execution_count": 18,
   "metadata": {},
   "outputs": [
    {
     "name": "stdout",
     "output_type": "stream",
     "text": [
      "Intercept: -1710279.0107680052\n",
      "Coeficiente: [('Year', 861.0017182627707), ('Mileage', -0.07632339047626777), ('State', 34.15906639338926), ('Make', -129.48926101686507), ('Model', 13.695399541664889)]\n",
      "Coeficiente de determinación R^2: 0.31022944844117784\n"
     ]
    }
   ],
   "source": [
    "#Regresion Lineal simple\n",
    "\n",
    "linmod=LinearRegression()\n",
    "linmod.fit(XTrain,yTrain)\n",
    "\n",
    "# Información del modelo\n",
    "# ==============================================================================\n",
    "print(\"Intercept:\", linmod.intercept_)\n",
    "print(\"Coeficiente:\", list(zip(X.columns, linmod.coef_.flatten(), )))\n",
    "print(\"Coeficiente de determinación R^2:\", linmod.score(X, y))"
   ]
  },
  {
   "cell_type": "code",
   "execution_count": 19,
   "metadata": {},
   "outputs": [
    {
     "name": "stdout",
     "output_type": "stream",
     "text": [
      "El mean_squared_error en la muestra de test es:\n",
      "3808.0782097420347\n"
     ]
    }
   ],
   "source": [
    "#Random Forest\n",
    "\n",
    "# Definición de modelo Random Forest para un problema de regresión\n",
    "clf = RandomForestRegressor(random_state=1, n_jobs=-1 )\n",
    "clf.fit(XTrain, yTrain)\n",
    "\n",
    "prediccion=clf.predict(XTest)\n",
    "\n",
    "mse = metrics.mean_squared_error(yTest, prediccion, squared=False)\n",
    "print('El mean_squared_error en la muestra de test es:')\n",
    "print(mse)"
   ]
  },
  {
   "cell_type": "code",
   "execution_count": 17,
   "metadata": {},
   "outputs": [
    {
     "name": "stdout",
     "output_type": "stream",
     "text": [
      "max_mse:  -13480878.128997356\n",
      "feat_max_mse:  21\n"
     ]
    },
    {
     "data": {
      "image/png": "[encoded data removed]",
      "text/plain": [
       "<Figure size 432x288 with 1 Axes>"
      ]
     },
     "metadata": {
      "needs_background": "light"
     },
     "output_type": "display_data"
    }
   ],
   "source": [
    "# Calibración de max_depth\n",
    "\n",
    "# Creación de lista de valores para iterar sobre diferentes valores de max_depth\n",
    "depth_range =  range(1, 100,10)\n",
    "\n",
    "# Definición de lista para almacenar la exactitud (accuracy) promedio para cada valor de max_depth\n",
    "mse_scores = []\n",
    "\n",
    "# Uso de un 5-fold cross-validation para cada valor de max_depth\n",
    "for depth in depth_range:\n",
    "    clf = RandomForestRegressor(max_depth=depth, random_state=1, n_jobs=-1)\n",
    "    mse_scores.append(cross_val_score(clf, XTrain, yTrain, cv=5, scoring='neg_mean_squared_error').mean())\n",
    "    \n",
    "plt.plot(depth_range, mse_scores)\n",
    "plt.xlabel('max_depth')\n",
    "plt.ylabel('neg_mean_squared_error')\n",
    "\n",
    "# Mejores parámetros\n",
    "max_mse_depth = np.max(mse_scores)\n",
    "depth_max_mse = depth_range[mse_scores.index(max_mse_depth)]\n",
    "print(\"max_mse: \", max_mse_depth)\n",
    "print(\"feat_max_mse: \", depth_max_mse)"
   ]
  },
  {
   "cell_type": "code",
   "execution_count": 23,
   "metadata": {},
   "outputs": [
    {
     "name": "stdout",
     "output_type": "stream",
     "text": [
      "max_mse:  -13286553.278757099\n",
      "feat_max_mse:  300\n"
     ]
    },
    {
     "data": {
      "image/png": "[encoded data removed]",
      "text/plain": [
       "<Figure size 432x288 with 1 Axes>"
      ]
     },
     "metadata": {
      "needs_background": "light"
     },
     "output_type": "display_data"
    }
   ],
   "source": [
    "#Calibración de n_estimators\n",
    "\n",
    "# Creación de lista de valores para iterar sobre diferentes valores de n_estimators\n",
    "estimator_range =  range(10, 310, 10)\n",
    "\n",
    "# Definición de lista para almacenar la exactitud (accuracy) promedio para cada valor de n_estimators\n",
    "mse_scores = []\n",
    "\n",
    "# Uso de un 5-fold cross-validation para cada valor de n_estimators\n",
    "for estimator in estimator_range:\n",
    "    clf = RandomForestRegressor(max_depth=20, n_estimators=estimator, random_state=1, n_jobs=-1)\n",
    "    mse_scores.append(cross_val_score(clf, XTrain, yTrain, cv=5, scoring='neg_mean_squared_error').mean())\n",
    "\n",
    "plt.plot(estimator_range, mse_scores)\n",
    "plt.xlabel('n_estimators')\n",
    "plt.ylabel('neg_mean_squared_error')\n",
    "\n",
    "# Mejores parámetros\n",
    "max_mse_estimator = np.max(mse_scores)\n",
    "estimator_max_mse = estimator_range[mse_scores.index(max_mse_estimator)]\n",
    "print(\"max_mse: \", max_mse_estimator)\n",
    "print(\"feat_max_mse: \", estimator_max_mse)"
   ]
  },
  {
   "cell_type": "code",
   "execution_count": 24,
   "metadata": {},
   "outputs": [
    {
     "name": "stdout",
     "output_type": "stream",
     "text": [
      "max_mse:  -13097332.05338455\n",
      "feat_max_mse:  4\n"
     ]
    },
    {
     "data": {
      "image/png": "[encoded data removed]",
      "text/plain": [
       "<Figure size 432x288 with 1 Axes>"
      ]
     },
     "metadata": {
      "needs_background": "light"
     },
     "output_type": "display_data"
    }
   ],
   "source": [
    "# Calibración de max_features\n",
    "\n",
    "# Creación de lista de valores para iterar sobre diferentes valores de max_features\n",
    "feature_range = range(1, len(XTrain.columns)+1)\n",
    "\n",
    "# Definición de lista para almacenar la exactitud (accuracy) promedio para cada valor de max_features\n",
    "mse_scores = []\n",
    "\n",
    "# Uso de un 5-fold cross-validation para cada valor de max_features\n",
    "for feature in feature_range:\n",
    "    clf = RandomForestRegressor(max_depth=20, n_estimators=200,max_features=feature, random_state=1, n_jobs=-1)\n",
    "    mse_scores.append(cross_val_score(clf, XTrain, yTrain, cv=5, scoring='neg_mean_squared_error').mean())\n",
    "\n",
    "# Gráfica del desempeño del modelo vs la cantidad de max_features\n",
    "plt.plot(feature_range, mse_scores)\n",
    "plt.xlabel('max_features')\n",
    "plt.ylabel('neg_mean_squared_error')\n",
    "\n",
    "# Mejores parámetros\n",
    "max_mse_feature = np.max(mse_scores)\n",
    "feature_max_mse = feature_range[mse_scores.index(max_mse_feature)]\n",
    "print(\"max_mse: \", max_mse_feature)\n",
    "print(\"feat_max_mse: \", feature_max_mse)"
   ]
  },
  {
   "cell_type": "code",
   "execution_count": 20,
   "metadata": {},
   "outputs": [
    {
     "name": "stdout",
     "output_type": "stream",
     "text": [
      "El mean_squared_error en la muestra de test es:\n",
      "3648.5144181799037\n"
     ]
    }
   ],
   "source": [
    "#Random Forest Calibrado\n",
    "\n",
    "# Definición de modelo Random Forest para un problema de regresión\n",
    "clf = RandomForestRegressor(max_depth=21, n_estimators=300, max_features=4, random_state=1, n_jobs=-1 )\n",
    "clf.fit(XTrain, yTrain)\n",
    "\n",
    "prediccion=clf.predict(XTest)\n",
    "\n",
    "mse = metrics.mean_squared_error(yTest, prediccion, squared=False)\n",
    "print('El mean_squared_error en la muestra de test es:')\n",
    "print(mse)"
   ]
  },
  {
   "cell_type": "code",
   "execution_count": 21,
   "metadata": {},
   "outputs": [
    {
     "name": "stdout",
     "output_type": "stream",
     "text": [
      "El mean_squared_error en la muestra de test es:\n",
      "3700.4343455071476\n"
     ]
    }
   ],
   "source": [
    "#XGBoost\n",
    "\n",
    "clf = XGBRegressor(\n",
    "    random_state=1)\n",
    "\n",
    "# Entrenamiento (fit) y desempeño del modelo XGBClassifier\n",
    "clf.fit(XTrain, yTrain)\n",
    "y_pred = clf.predict(XTest)\n",
    "mse= metrics.mean_squared_error(y_pred, yTest.values, squared=False)\n",
    "print('El mean_squared_error en la muestra de test es:')\n",
    "print(mse)\n",
    "\n"
   ]
  },
  {
   "cell_type": "code",
   "execution_count": 211,
   "metadata": {},
   "outputs": [
    {
     "name": "stdout",
     "output_type": "stream",
     "text": [
      "max_mse:  -13535375.751241371\n",
      "feat_max_mse:  0.29\n"
     ]
    },
    {
     "data": {
      "image/png": "[encoded data removed]",
      "text/plain": [
       "<Figure size 432x288 with 1 Axes>"
      ]
     },
     "metadata": {
      "needs_background": "light"
     },
     "output_type": "display_data"
    }
   ],
   "source": [
    "# Calibración de learning_rate\n",
    "\n",
    "# Creación de lista de valores para iterar sobre diferentes valores de learning_rate\n",
    "learning_range = range(1, 30, 1)\n",
    "\n",
    "# Definición de lista para almacenar la exactitud (accuracy) promedio para cada valor de learning_rate\n",
    "mse_scores = []\n",
    "\n",
    "# Uso de un 5-fold cross-validation para cada valor de learning_rate\n",
    "for l in learning_range:\n",
    "    clf = XGBRegressor(learning_rate= l/100, random_state=1)\n",
    "    mse_scores.append(cross_val_score(clf, XTrain, yTrain, cv=5, scoring='neg_mean_squared_error').mean())\n",
    "\n",
    "# Gráfica del desempeño del modelo vs learning_rate\n",
    "plt.plot(learning_range, mse_scores)\n",
    "plt.xlabel('learning_range')\n",
    "plt.ylabel('neg_mean_squared_error')\n",
    "\n",
    "\n",
    "# Mejores parámetros\n",
    "max_mse_lrate = np.max(mse_scores)\n",
    "lrate_max_mse = learning_range[mse_scores.index(max_mse_lrate)]/100\n",
    "print(\"max_mse: \", max_mse_lrate)\n",
    "print(\"feat_max_mse: \", lrate_max_mse)"
   ]
  },
  {
   "cell_type": "code",
   "execution_count": 212,
   "metadata": {},
   "outputs": [
    {
     "name": "stdout",
     "output_type": "stream",
     "text": [
      "max_mse:  -13535375.751241371\n",
      "pgamma_max_mse:  0\n"
     ]
    },
    {
     "data": {
      "image/png": "[encoded data removed]",
      "text/plain": [
       "<Figure size 432x288 with 1 Axes>"
      ]
     },
     "metadata": {
      "needs_background": "light"
     },
     "output_type": "display_data"
    }
   ],
   "source": [
    "# Calibración de gamma\n",
    "\n",
    "# Creación de lista de valores para iterar sobre diferentes valores de gamma\n",
    "gamma_range = range(0, 100, 10)\n",
    "\n",
    "# Definición de lista para almacenar la exactitud (accuracy) promedio para cada valor de gamma\n",
    "mse_scores = []\n",
    "\n",
    "# Uso de un 5-fold cross-validation para cada valor de gamma\n",
    "for g in gamma_range:\n",
    "    clf = XGBRegressor(learning_rate=0.29, gamma= g, random_state=1)\n",
    "    mse_scores.append(cross_val_score(clf, XTrain, yTrain, cv=5, scoring='neg_mean_squared_error').mean())\n",
    "\n",
    "# Gráfica del desempeño del modelo vs gamma\n",
    "plt.plot(gamma_range, mse_scores)\n",
    "plt.xlabel('gamma_range')\n",
    "plt.ylabel('neg_mean_squared_error')\n",
    "\n",
    "# Mejores parámetros\n",
    "max_mse_pgamma = np.max(mse_scores)\n",
    "pgamma_max_mse = gamma_range[mse_scores.index(max_mse_pgamma)]\n",
    "print(\"max_mse: \", max_mse_pgamma)\n",
    "print(\"pgamma_max_mse: \", pgamma_max_mse)"
   ]
  },
  {
   "cell_type": "code",
   "execution_count": 213,
   "metadata": {},
   "outputs": [
    {
     "data": {
      "text/plain": [
       "Text(0, 0.5, 'neg_mean_squared_error')"
      ]
     },
     "execution_count": 213,
     "metadata": {},
     "output_type": "execute_result"
    },
    {
     "data": {
      "image/png": "[encoded data removed]",
      "text/plain": [
       "<Figure size 432x288 with 1 Axes>"
      ]
     },
     "metadata": {
      "needs_background": "light"
     },
     "output_type": "display_data"
    }
   ],
   "source": [
    "# Calibración de min_child_weight\n",
    "\n",
    "# Creación de lista de valores para iterar sobre diferentes valores de min_child_weight\n",
    "rango = range(0, 30, 1)\n",
    "\n",
    "# Definición de lista para almacenar la exactitud (accuracy) promedio para cada valor de learning_rate\n",
    "mse_scores = []\n",
    "\n",
    "# Uso de un 5-fold cross-validation para cada valor de learning_rate\n",
    "for l in rango:\n",
    "    clf = XGBRegressor(learning_rate=0.29, min_child_weight= l/100, random_state=1)\n",
    "    mse_scores.append(cross_val_score(clf, XTrain, yTrain, cv=5, scoring='neg_mean_squared_error').mean())\n",
    "\n",
    "# Gráfica del desempeño del modelo vs learning_rate\n",
    "plt.plot(rango, mse_scores)\n",
    "plt.xlabel('min_child_weight')\n",
    "plt.ylabel('neg_mean_squared_error')"
   ]
  },
  {
   "cell_type": "code",
   "execution_count": 25,
   "metadata": {},
   "outputs": [
    {
     "name": "stdout",
     "output_type": "stream",
     "text": [
      "max_mse:  -12616643.60544074\n",
      "max_depth_max_mse:  10\n"
     ]
    },
    {
     "data": {
      "image/png": "[encoded data removed]",
      "text/plain": [
       "<Figure size 432x288 with 1 Axes>"
      ]
     },
     "metadata": {
      "needs_background": "light"
     },
     "output_type": "display_data"
    }
   ],
   "source": [
    "# Calibración de max_depth\n",
    "\n",
    "# Creación de lista de valores para iterar sobre diferentes valores de gamma\n",
    "max_depth_range = range(0, 30, 10)\n",
    "\n",
    "# Definición de lista para almacenar la exactitud (accuracy) promedio para cada valor de gamma\n",
    "mse_scores = []\n",
    "\n",
    "# Uso de un 5-fold cross-validation para cada valor de gamma\n",
    "for m in max_depth_range:\n",
    "    clf = XGBRegressor(learning_rate=0.29, max_depth= m, random_state=1)\n",
    "    mse_scores.append(cross_val_score(clf, XTrain, yTrain, cv=5, scoring='neg_mean_squared_error').mean())\n",
    "\n",
    "# Gráfica del desempeño del modelo vs gamma\n",
    "plt.plot(max_depth_range, mse_scores)\n",
    "plt.xlabel('max_depth_range')\n",
    "plt.ylabel('neg_mean_squared_error')\n",
    "\n",
    "# Mejores parámetros\n",
    "max_mse_pgamma = np.max(mse_scores)\n",
    "pgamma_max_mse = max_depth_range[mse_scores.index(max_mse_pgamma)]\n",
    "print(\"max_mse: \", max_mse_pgamma)\n",
    "print(\"max_depth_max_mse: \", pgamma_max_mse)"
   ]
  },
  {
   "cell_type": "code",
   "execution_count": 166,
   "metadata": {},
   "outputs": [
    {
     "name": "stdout",
     "output_type": "stream",
     "text": [
      "max_mse:  -15120566.841639157\n",
      "max_depth_max_mse:  60\n"
     ]
    },
    {
     "data": {
      "image/png": "[encoded data removed]",
      "text/plain": [
       "<Figure size 432x288 with 1 Axes>"
      ]
     },
     "metadata": {
      "needs_background": "light"
     },
     "output_type": "display_data"
    }
   ],
   "source": [
    "# Calibración de n_estimators\n",
    "\n",
    "# Creación de lista de valores para iterar sobre diferentes valores de gamma\n",
    "n_estimators_range = range(0, 100, 10)\n",
    "\n",
    "# Definición de lista para almacenar la exactitud (accuracy) promedio para cada valor de gamma\n",
    "mse_scores = []\n",
    "\n",
    "# Uso de un 5-fold cross-validation para cada valor de gamma\n",
    "for e in n_estimators_range:\n",
    "    clf = XGBRegressor(learning_rate=0.29, max_depth= 10, n_estimators=e, random_state=1)\n",
    "    mse_scores.append(cross_val_score(clf, XTrain, yTrain, cv=5, scoring='neg_mean_squared_error').mean())\n",
    "\n",
    "# Gráfica del desempeño del modelo vs gamma\n",
    "plt.plot(n_estimators_range, mse_scores)\n",
    "plt.xlabel('n_estimators_range')\n",
    "plt.ylabel('neg_mean_squared_error')\n",
    "\n",
    "# Mejores parámetros\n",
    "max_mse_pgamma = np.max(mse_scores)\n",
    "pgamma_max_mse = n_estimators_range[mse_scores.index(max_mse_pgamma)]\n",
    "print(\"max_mse: \", max_mse_pgamma)\n",
    "print(\"max_depth_max_mse: \", pgamma_max_mse)"
   ]
  },
  {
   "cell_type": "code",
   "execution_count": null,
   "metadata": {},
   "outputs": [],
   "source": [
    "# Calibración de colsample_bytree\n",
    "\n",
    "# Creación de lista de valores para iterar sobre diferentes valores de learning_rate\n",
    "colsample_bytree_range = range(1, 30, 1)\n",
    "\n",
    "# Definición de lista para almacenar la exactitud (accuracy) promedio para cada valor de learning_rate\n",
    "mse_scores = []\n",
    "\n",
    "# Uso de un 5-fold cross-validation para cada valor de learning_rate\n",
    "for c in colsample_bytree_range:\n",
    "    clf = XGBRegressor(learning_rate=0.29, max_depth= 10, n_estimators=60, subsample= 0.29, colsample_bytree=c , random_state=1)\n",
    "    mse_scores.append(cross_val_score(clf, XTrain, yTrain, cv=5, scoring='neg_mean_squared_error').mean())\n",
    "\n",
    "# Gráfica del desempeño del modelo vs learning_rate\n",
    "plt.plot(colsample_bytree_range, mse_scores)\n",
    "plt.xlabel('colsample_bytree_range')\n",
    "plt.ylabel('neg_mean_squared_error')\n",
    "\n",
    "\n",
    "# Mejores parámetros\n",
    "max_mse_lrate = np.max(mse_scores)\n",
    "lrate_max_mse = colsample_bytree_range[mse_scores.index(max_mse_lrate)]/100\n",
    "print(\"max_mse: \", max_mse_lrate)\n",
    "print(\"feat_max_mse: \", lrate_max_mse)"
   ]
  },
  {
   "cell_type": "code",
   "execution_count": 167,
   "metadata": {},
   "outputs": [
    {
     "name": "stdout",
     "output_type": "stream",
     "text": [
      "max_mse:  -15793464.325290602\n",
      "feat_max_mse:  0.29\n"
     ]
    },
    {
     "data": {
      "image/png": "[encoded data removed]",
      "text/plain": [
       "<Figure size 432x288 with 1 Axes>"
      ]
     },
     "metadata": {
      "needs_background": "light"
     },
     "output_type": "display_data"
    }
   ],
   "source": [
    "# Calibración de subsample\n",
    "\n",
    "# Creación de lista de valores para iterar sobre diferentes valores de learning_rate\n",
    "subsample_range = range(1, 30, 1)\n",
    "\n",
    "# Definición de lista para almacenar la exactitud (accuracy) promedio para cada valor de learning_rate\n",
    "mse_scores = []\n",
    "\n",
    "# Uso de un 5-fold cross-validation para cada valor de learning_rate\n",
    "for s in subsample_range:\n",
    "    clf = XGBRegressor(learning_rate=0.29, max_depth= 10, n_estimators=e, subsample= s/100, random_state=1)\n",
    "    mse_scores.append(cross_val_score(clf, XTrain, yTrain, cv=5, scoring='neg_mean_squared_error').mean())\n",
    "\n",
    "# Gráfica del desempeño del modelo vs learning_rate\n",
    "plt.plot(subsample_range, mse_scores)\n",
    "plt.xlabel('subsample_range')\n",
    "plt.ylabel('neg_mean_squared_error')\n",
    "\n",
    "\n",
    "# Mejores parámetros\n",
    "max_mse_lrate = np.max(mse_scores)\n",
    "lrate_max_mse = subsample_range[mse_scores.index(max_mse_lrate)]/100\n",
    "print(\"max_mse: \", max_mse_lrate)\n",
    "print(\"feat_max_mse: \", lrate_max_mse)"
   ]
  },
  {
   "cell_type": "code",
   "execution_count": 22,
   "metadata": {},
   "outputs": [
    {
     "name": "stdout",
     "output_type": "stream",
     "text": [
      "El mean_squared_error en la muestra de test es:\n",
      "3726.438332628222\n"
     ]
    }
   ],
   "source": [
    "#XGBoost Calibrado\n",
    "\n",
    "clf = XGBRegressor(\n",
    "    learning_rate=0.29,\n",
    "    #gamma=\n",
    "    #min_child_weight=0.5,\n",
    "    max_depth=10,\n",
    "    n_estimators=60, \n",
    "    #colsample_bytree=0.8, \n",
    "    subsample=0.29, \n",
    "    random_state=1)\n",
    "\n",
    "# Entrenamiento (fit) y desempeño del modelo XGBClassifier\n",
    "clf.fit(XTrain, yTrain)\n",
    "y_pred = clf.predict(XTest)\n",
    "mse= metrics.mean_squared_error(y_pred, yTest.values, squared=False)\n",
    "print('El mean_squared_error en la muestra de test es:')\n",
    "print(mse)\n"
   ]
  },
  {
   "cell_type": "code",
   "execution_count": 27,
   "metadata": {},
   "outputs": [
    {
     "data": {
      "text/html": [
       "<div>\n",
       "<style scoped>\n",
       "    .dataframe tbody tr th:only-of-type {\n",
       "        vertical-align: middle;\n",
       "    }\n",
       "\n",
       "    .dataframe tbody tr th {\n",
       "        vertical-align: top;\n",
       "    }\n",
       "\n",
       "    .dataframe thead th {\n",
       "        text-align: right;\n",
       "    }\n",
       "</style>\n",
       "<table border=\"1\" class=\"dataframe\">\n",
       "  <thead>\n",
       "    <tr style=\"text-align: right;\">\n",
       "      <th></th>\n",
       "      <th>Price</th>\n",
       "    </tr>\n",
       "    <tr>\n",
       "      <th>ID</th>\n",
       "      <th></th>\n",
       "    </tr>\n",
       "  </thead>\n",
       "  <tbody>\n",
       "    <tr>\n",
       "      <th>0</th>\n",
       "      <td>18515.479378</td>\n",
       "    </tr>\n",
       "    <tr>\n",
       "      <th>1</th>\n",
       "      <td>34212.540709</td>\n",
       "    </tr>\n",
       "    <tr>\n",
       "      <th>2</th>\n",
       "      <td>23960.747300</td>\n",
       "    </tr>\n",
       "    <tr>\n",
       "      <th>3</th>\n",
       "      <td>9863.857755</td>\n",
       "    </tr>\n",
       "    <tr>\n",
       "      <th>4</th>\n",
       "      <td>31189.176238</td>\n",
       "    </tr>\n",
       "    <tr>\n",
       "      <th>...</th>\n",
       "      <td>...</td>\n",
       "    </tr>\n",
       "    <tr>\n",
       "      <th>99995</th>\n",
       "      <td>22706.482036</td>\n",
       "    </tr>\n",
       "    <tr>\n",
       "      <th>99996</th>\n",
       "      <td>39819.032056</td>\n",
       "    </tr>\n",
       "    <tr>\n",
       "      <th>99997</th>\n",
       "      <td>19819.542257</td>\n",
       "    </tr>\n",
       "    <tr>\n",
       "      <th>99998</th>\n",
       "      <td>18063.251558</td>\n",
       "    </tr>\n",
       "    <tr>\n",
       "      <th>99999</th>\n",
       "      <td>18922.161021</td>\n",
       "    </tr>\n",
       "  </tbody>\n",
       "</table>\n",
       "<p>100000 rows × 1 columns</p>\n",
       "</div>"
      ],
      "text/plain": [
       "              Price\n",
       "ID                 \n",
       "0      18515.479378\n",
       "1      34212.540709\n",
       "2      23960.747300\n",
       "3       9863.857755\n",
       "4      31189.176238\n",
       "...             ...\n",
       "99995  22706.482036\n",
       "99996  39819.032056\n",
       "99997  19819.542257\n",
       "99998  18063.251558\n",
       "99999  18922.161021\n",
       "\n",
       "[100000 rows x 1 columns]"
      ]
     },
     "execution_count": 27,
     "metadata": {},
     "output_type": "execute_result"
    }
   ],
   "source": [
    "# Predicción del conjunto de test\n",
    "\n",
    "dataTesting['State'] = LabelEncoder().fit_transform(dataTesting['State'])\n",
    "dataTesting['Make'] = LabelEncoder().fit_transform(dataTesting['Make'])\n",
    "dataTesting['Model'] = LabelEncoder().fit_transform(dataTesting['Model'])\n",
    "\n",
    "Dataset=dataTesting.iloc[:,:]\n",
    "\n",
    "# Definición de modelo Random Forest para un problema de regresión\n",
    "clf = RandomForestRegressor(max_depth=21, n_estimators=300, max_features=4, random_state=1, n_jobs=-1)\n",
    "clf.fit(XTrain, yTrain)\n",
    "\n",
    "prediccion=clf.predict(Dataset)\n",
    "\n",
    "y_pred = pd.DataFrame(prediccion, index=Dataset.index, columns=['Price'])\n",
    "y_pred"
   ]
  },
  {
   "cell_type": "code",
   "execution_count": 24,
   "metadata": {},
   "outputs": [
    {
     "data": {
      "text/html": [
       "<div>\n",
       "<style scoped>\n",
       "    .dataframe tbody tr th:only-of-type {\n",
       "        vertical-align: middle;\n",
       "    }\n",
       "\n",
       "    .dataframe tbody tr th {\n",
       "        vertical-align: top;\n",
       "    }\n",
       "\n",
       "    .dataframe thead th {\n",
       "        text-align: right;\n",
       "    }\n",
       "</style>\n",
       "<table border=\"1\" class=\"dataframe\">\n",
       "  <thead>\n",
       "    <tr style=\"text-align: right;\">\n",
       "      <th></th>\n",
       "      <th>Price</th>\n",
       "    </tr>\n",
       "    <tr>\n",
       "      <th>ID</th>\n",
       "      <th></th>\n",
       "    </tr>\n",
       "  </thead>\n",
       "  <tbody>\n",
       "    <tr>\n",
       "      <th>0</th>\n",
       "      <td>18515.479378</td>\n",
       "    </tr>\n",
       "    <tr>\n",
       "      <th>1</th>\n",
       "      <td>34212.540709</td>\n",
       "    </tr>\n",
       "    <tr>\n",
       "      <th>2</th>\n",
       "      <td>23960.747300</td>\n",
       "    </tr>\n",
       "    <tr>\n",
       "      <th>3</th>\n",
       "      <td>9863.857755</td>\n",
       "    </tr>\n",
       "    <tr>\n",
       "      <th>4</th>\n",
       "      <td>31189.176238</td>\n",
       "    </tr>\n",
       "  </tbody>\n",
       "</table>\n",
       "</div>"
      ],
      "text/plain": [
       "           Price\n",
       "ID              \n",
       "0   18515.479378\n",
       "1   34212.540709\n",
       "2   23960.747300\n",
       "3    9863.857755\n",
       "4   31189.176238"
      ]
     },
     "execution_count": 24,
     "metadata": {},
     "output_type": "execute_result"
    }
   ],
   "source": [
    "# Guardar predicciones en formato exigido en la competencia de kaggle\n",
    "y_pred.to_csv('test_submission.csv', index_label='ID')\n",
    "y_pred.head()"
   ]
  }
 ],
 "metadata": {
  "kernelspec": {
   "display_name": "Python 3",
   "language": "python",
   "name": "python3"
  },
  "language_info": {
   "codemirror_mode": {
    "name": "ipython",
    "version": 3
   },
   "file_extension": ".py",
   "mimetype": "text/x-python",
   "name": "python",
   "nbconvert_exporter": "python",
   "pygments_lexer": "ipython3",
   "version": "3.8.8"
  }
 },
 "nbformat": 4,
 "nbformat_minor": 1
}
