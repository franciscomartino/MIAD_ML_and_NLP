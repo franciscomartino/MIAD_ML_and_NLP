{
 "cells": [
  {
   "cell_type": "code",
   "execution_count": null,
   "id": "6c51f6ed",
   "metadata": {},
   "outputs": [],
   "source": [
    "# Descifrando Lab Encoder\n",
    "\n",
    "# Carga de datos de archivo .csv\n",
    "dataTraining = pd.read_csv('https://raw.githubusercontent.com/albahnsen/MIAD_ML_and_NLP/main/datasets/dataTrain_carListings.zip')\n",
    "\n",
    "# Tratamiento de variables categóricas en set de entrenamiento\n",
    "dataTraining['State'] = LabelEncoder().fit_transform(dataTraining['State'])\n",
    "dataTraining['Make'] = LabelEncoder().fit_transform(dataTraining['Make'])\n",
    "dataTraining['Model'] = LabelEncoder().fit_transform(dataTraining['Model'])\n",
    "\n",
    "# Partimos los datasets en Train y Test \n",
    "\n",
    "X=dataTraining.iloc[:,1:6]\n",
    "y=dataTraining.Price\n",
    "\n",
    "XTrain, XTest, yTrain, yTest = train_test_split(X, y, test_size=0.33, random_state=0)\n",
    "\n",
    "#clf = RandomForestRegressor(max_depth=21, n_estimators=300, max_features=4, random_state=1, n_jobs=-1 )\n",
    "clf = RandomForestRegressor(random_state=1, n_jobs=-1 )\n",
    "clf.fit(XTrain, yTrain)"
   ]
  },
  {
   "cell_type": "code",
   "execution_count": null,
   "id": "9273a2eb",
   "metadata": {},
   "outputs": [],
   "source": [
    "import pandas as pd\n",
    "from sklearn.preprocessing import LabelEncoder\n",
    "\n",
    "\n",
    "# Carga de datos de archivo .csv\n",
    "dataTraining = pd.read_csv('https://raw.githubusercontent.com/albahnsen/MIAD_ML_and_NLP/main/datasets/dataTrain_carListings.zip')\n",
    "\n",
    "\n",
    "df1 = pd.DataFrame({\n",
    "    \"original\": dataTraining['State'],\n",
    "    \"codificada\":  LabelEncoder().fit_transform(dataTraining['State'])\n",
    "})\n",
    "\n",
    "df1= df1.drop_duplicates(subset=['original', 'codificada'])\n",
    "df1"
   ]
  },
  {
   "cell_type": "code",
   "execution_count": null,
   "id": "e73714f4",
   "metadata": {},
   "outputs": [],
   "source": [
    "df1 = pd.DataFrame({\n",
    "    \"original\": dataTraining['Make'],\n",
    "    \"codificada\":  LabelEncoder().fit_transform(dataTraining['Make'])\n",
    "})\n",
    "\n",
    "df1= df1.drop_duplicates(subset=['original', 'codificada'])\n",
    "df1"
   ]
  },
  {
   "cell_type": "code",
   "execution_count": null,
   "id": "3d8367b7",
   "metadata": {},
   "outputs": [],
   "source": [
    "df1 = pd.DataFrame({\n",
    "    \"original\": dataTraining['Model'],\n",
    "    \"codificada\":  LabelEncoder().fit_transform(dataTraining['Model'])\n",
    "})\n",
    "\n",
    "df1= df1.drop_duplicates(subset=['original', 'codificada'])\n",
    "df1.to_csv(\"df1.csv\")"
   ]
  },
  {
   "cell_type": "code",
   "execution_count": null,
   "id": "385224bf",
   "metadata": {},
   "outputs": [],
   "source": []
  }
 ],
 "metadata": {
  "kernelspec": {
   "display_name": "Python 3",
   "language": "python",
   "name": "python3"
  },
  "language_info": {
   "codemirror_mode": {
    "name": "ipython",
    "version": 3
   },
   "file_extension": ".py",
   "mimetype": "text/x-python",
   "name": "python",
   "nbconvert_exporter": "python",
   "pygments_lexer": "ipython3",
   "version": "3.8.8"
  }
 },
 "nbformat": 4,
 "nbformat_minor": 5
}
